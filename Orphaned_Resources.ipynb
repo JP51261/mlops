{
 "cells": [
  {
   "cell_type": "code",
   "execution_count": 1,
   "id": "949ebd74-b1ee-4c37-a263-94b08e89b99c",
   "metadata": {},
   "outputs": [
    {
     "name": "stdout",
     "output_type": "stream",
     "text": [
      "sagemaker.config INFO - Not applying SDK defaults from location: /etc/xdg/sagemaker/config.yaml\n",
      "sagemaker.config INFO - Not applying SDK defaults from location: /home/sagemaker-user/.config/sagemaker/config.yaml\n"
     ]
    }
   ],
   "source": [
    "import sagemaker"
   ]
  },
  {
   "cell_type": "code",
   "execution_count": 2,
   "id": "f639af50-bf2a-413a-bb87-130791024516",
   "metadata": {},
   "outputs": [],
   "source": [
    "import boto3"
   ]
  },
  {
   "cell_type": "code",
   "execution_count": 3,
   "id": "ca4008bb-0dce-497a-badb-dfbe55be6b21",
   "metadata": {},
   "outputs": [
    {
     "name": "stdout",
     "output_type": "stream",
     "text": [
      "SageMaker Models:\n",
      "sagemaker-xgboost-2024-12-27-19-15-55-238\n",
      "sagemaker-scikit-learn-2024-12-22-16-32-03-329\n"
     ]
    }
   ],
   "source": [
    "# Initialize SageMaker client\n",
    "sagemaker_client = boto3.client('sagemaker')\n",
    "\n",
    "# List models\n",
    "models = sagemaker_client.list_models()\n",
    "\n",
    "# Print model names\n",
    "print(\"SageMaker Models:\")\n",
    "for model in models['Models']:\n",
    "    print(model['ModelName'])\n"
   ]
  },
  {
   "cell_type": "code",
   "execution_count": 4,
   "id": "9091c2cd-053f-44ab-8a65-a1bfb96d2b65",
   "metadata": {},
   "outputs": [
    {
     "name": "stdout",
     "output_type": "stream",
     "text": [
      "\n",
      "SageMaker Endpoints:\n"
     ]
    }
   ],
   "source": [
    "# List endpoints\n",
    "endpoints = sagemaker_client.list_endpoints()\n",
    "\n",
    "# Print endpoint names\n",
    "print(\"\\nSageMaker Endpoints:\")\n",
    "for endpoint in endpoints['Endpoints']:\n",
    "    print(endpoint['EndpointName'])\n"
   ]
  },
  {
   "cell_type": "code",
   "execution_count": 6,
   "id": "37752007-47fa-4e55-956d-510f25101aa8",
   "metadata": {},
   "outputs": [
    {
     "name": "stdout",
     "output_type": "stream",
     "text": [
      "\n",
      "S3 Buckets:\n",
      "sagemaker-us-east-1-533267083937\n"
     ]
    }
   ],
   "source": [
    "# Initialize S3 client\n",
    "s3_client = boto3.client('s3')\n",
    "\n",
    "# List buckets\n",
    "buckets = s3_client.list_buckets()\n",
    "\n",
    "# Print bucket names\n",
    "print(\"\\nS3 Buckets:\")\n",
    "for bucket in buckets['Buckets']:\n",
    "    print(bucket['Name'])\n"
   ]
  }
 ],
 "metadata": {
  "kernelspec": {
   "display_name": "Python 3 (ipykernel)",
   "language": "python",
   "name": "python3"
  },
  "language_info": {
   "codemirror_mode": {
    "name": "ipython",
    "version": 3
   },
   "file_extension": ".py",
   "mimetype": "text/x-python",
   "name": "python",
   "nbconvert_exporter": "python",
   "pygments_lexer": "ipython3",
   "version": "3.11.11"
  }
 },
 "nbformat": 4,
 "nbformat_minor": 5
}
