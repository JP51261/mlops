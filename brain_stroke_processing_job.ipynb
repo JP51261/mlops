{
  "cells": [
    {
      "cell_type": "markdown",
      "source": [
        "## This notebook will show you how to create a processing job, and with the help of that processing job, you can do all the data pre-processing steps."
      ],
      "metadata": {
        "nteract": {
          "transient": {
            "deleting": false
          }
        }
      }
    },
    {
      "cell_type": "markdown",
      "source": [
        "**Refer below the steps along with screenshots to better understand the hands on part of the processing job:**\n",
        "\n",
        "**Step1: Create a folder called Data:**\n",
        "\n"
      ],
      "metadata": {
        "nteract": {
          "transient": {
            "deleting": false
          }
        }
      }
    },
    {
      "cell_type": "markdown",
      "source": [
        "**Note: Click on the 3 dots at the right of the folder in which we are working --> Create new Folder.**"
      ],
      "metadata": {
        "nteract": {
          "transient": {
            "deleting": false
          }
        }
      }
    },
    {
      "cell_type": "code",
      "source": [
        "from IPython import display"
      ],
      "outputs": [],
      "execution_count": 1,
      "metadata": {
        "jupyter": {
          "source_hidden": false,
          "outputs_hidden": false
        },
        "nteract": {
          "transient": {
            "deleting": false
          }
        },
        "gather": {
          "logged": 1729352998537
        }
      }
    },
    {
      "cell_type": "code",
      "source": [
        "display.Image(\"Image/Image1.1.png\")\n",
        "display.Image(\"Image/Image1.2.png\")\n",
        "display.Image(\"Image/Image1.png\")"
      ],
      "outputs": [
        {
          "output_type": "execute_result",
          "execution_count": 2,
          "data": {
            "image/png": "[encoded data removed]",
            "text/plain": "<IPython.core.display.Image object>"
          },
          "metadata": {}
        }
      ],
      "execution_count": 2,
      "metadata": {
        "jupyter": {
          "source_hidden": false,
          "outputs_hidden": false
        },
        "nteract": {
          "transient": {
            "deleting": false
          }
        },
        "gather": {
          "logged": 1729352998695
        }
      }
    },
    {
      "cell_type": "markdown",
      "source": [
        "**Step2: General imports**"
      ],
      "metadata": {
        "nteract": {
          "transient": {
            "deleting": false
          }
        }
      }
    },
    {
      "cell_type": "code",
      "source": [
        "# Handle to the workspace\n",
        "from azure.ai.ml import MLClient\n",
        "\n",
        "# Authentication package\n",
        "from azure.identity import DefaultAzureCredential\n",
        "credential = DefaultAzureCredential()\n",
        "from azure.ai.ml.entities import Data\n",
        "from azure.ai.ml.constants import AssetTypes\n",
        "from azure.ai.ml import Input, Output\n",
        "from azure.ai.ml import command"
      ],
      "outputs": [],
      "execution_count": 3,
      "metadata": {
        "jupyter": {
          "source_hidden": false,
          "outputs_hidden": false
        },
        "nteract": {
          "transient": {
            "deleting": false
          }
        },
        "gather": {
          "logged": 1729353000936
        }
      }
    },
    {
      "cell_type": "markdown",
      "source": [
        "**Step3: Upload the data file (\"brain_stroke_processed_v2.csv) extracted from brain_stroke_pre_processing notebook**"
      ],
      "metadata": {
        "nteract": {
          "transient": {
            "deleting": false
          }
        }
      }
    },
    {
      "cell_type": "markdown",
      "source": [
        "Let's explore the process of registering an external dataset as a data asset in the Azure ML environment. In this scenario, we will copy a local dataset to Azure blob storage and then proceed to register the file as a data asset."
      ],
      "metadata": {
        "nteract": {
          "transient": {
            "deleting": false
          }
        }
      }
    },
    {
      "cell_type": "code",
      "source": [
        "local_data_path = 'Data/brain_stroke_processed_v2.csv'\n",
        "# local_data_path = 'brain_stroke_processed_v2.csv'"
      ],
      "outputs": [],
      "execution_count": 4,
      "metadata": {
        "jupyter": {
          "source_hidden": false,
          "outputs_hidden": false
        },
        "nteract": {
          "transient": {
            "deleting": false
          }
        },
        "gather": {
          "logged": 1729353001038
        }
      }
    },
    {
      "cell_type": "code",
      "source": [
        "data_asset = Data(\n",
        "    path=local_data_path,\n",
        "    type=AssetTypes.URI_FILE,\n",
        "    description=\"A dataset of brain stroke analysis\",\n",
        "    name=\"brain_stroke_processed\",\n",
        "    version=\"3\"\n",
        ")"
      ],
      "outputs": [],
      "execution_count": 5,
      "metadata": {
        "jupyter": {
          "source_hidden": false,
          "outputs_hidden": false
        },
        "nteract": {
          "transient": {
            "deleting": false
          }
        },
        "gather": {
          "logged": 1729353001154
        }
      }
    },
    {
      "cell_type": "code",
      "source": [
        "# Get a handle to the workspace\n",
        "ml_client = MLClient(\n",
        "    credential=credential,\n",
        "    # subscription_id=\"1c6d9ef7-1867-436f-986f-f37c475a295b\",\n",
        "    # resource_group_name=\"testml\",\n",
        "    # workspace_name=\"azureml\",\n",
        "    subscription_id=\"6793e723-756c-4c5d-84c0-812f1bb4c679\",\n",
        "    resource_group_name=\"JuvlinResourceGroup\",\n",
        "    workspace_name=\"JuvlinWorkspace\",\n",
        ")"
      ],
      "outputs": [],
      "execution_count": 6,
      "metadata": {
        "jupyter": {
          "source_hidden": false,
          "outputs_hidden": false
        },
        "nteract": {
          "transient": {
            "deleting": false
          }
        },
        "gather": {
          "logged": 1729353001270
        }
      }
    },
    {
      "cell_type": "code",
      "source": [
        "# Get the workspace\n",
        "from azureml.core import Workspace\n",
        "\n",
        "ws = Workspace(subscription_id=\"6793e723-756c-4c5d-84c0-812f1bb4c679\",\n",
        "                resource_group=\"JuvlinResourceGroup\",\n",
        "                workspace_name=\"JuvlinWorkspace\")\n",
        "print('Ready to work with', ws.name)"
      ],
      "outputs": [
        {
          "output_type": "stream",
          "name": "stdout",
          "text": "Ready to work with JuvlinWorkspace\n"
        }
      ],
      "execution_count": 7,
      "metadata": {
        "jupyter": {
          "source_hidden": false,
          "outputs_hidden": false
        },
        "nteract": {
          "transient": {
            "deleting": false
          }
        },
        "gather": {
          "logged": 1729353001520
        }
      }
    },
    {
      "cell_type": "code",
      "source": [
        "ml_client.data.create_or_update(data_asset)"
      ],
      "outputs": [
        {
          "output_type": "stream",
          "name": "stderr",
          "text": "\r\u001b[32mUploading brain_stroke_processed_v2.csv\u001b[32m (< 1 MB): 0.00B [00:00, ?B/s]\r\u001b[32mUploading brain_stroke_processed_v2.csv\u001b[32m (< 1 MB): 100%|██████████| 193k/193k [00:00<00:00, 8.38MB/s]\n\u001b[39m\n\n"
        },
        {
          "output_type": "execute_result",
          "execution_count": 8,
          "data": {
            "text/plain": "Data({'path': 'azureml://subscriptions/6793e723-756c-4c5d-84c0-812f1bb4c679/resourcegroups/JuvlinResourceGroup/workspaces/JuvlinWorkspace/datastores/workspaceblobstore/paths/LocalUpload/bdfa881b95ba92750c61b0360b9302c5/brain_stroke_processed_v2.csv', 'skip_validation': False, 'mltable_schema_url': None, 'referenced_uris': None, 'type': 'uri_file', 'is_anonymous': False, 'auto_increment_version': False, 'auto_delete_setting': None, 'name': 'brain_stroke_processed', 'description': 'A dataset of brain stroke analysis', 'tags': {}, 'properties': {}, 'print_as_yaml': False, 'id': '/subscriptions/6793e723-756c-4c5d-84c0-812f1bb4c679/resourceGroups/JuvlinResourceGroup/providers/Microsoft.MachineLearningServices/workspaces/JuvlinWorkspace/data/brain_stroke_processed/versions/3', 'Resource__source_path': '', 'base_path': '/mnt/batch/tasks/shared/LS_root/mounts/clusters/pinhe512611/code/Users/pinhe51261/Code', 'creation_context': <azure.ai.ml.entities._system_data.SystemData object at 0x7f87a7fb73a0>, 'serialize': <msrest.serialization.Serializer object at 0x7f87a7fb7220>, 'version': '3', 'latest_version': None, 'datastore': None})"
          },
          "metadata": {}
        }
      ],
      "execution_count": 8,
      "metadata": {
        "jupyter": {
          "source_hidden": false,
          "outputs_hidden": false
        },
        "nteract": {
          "transient": {
            "deleting": false
          }
        },
        "gather": {
          "logged": 1729353004872
        }
      }
    },
    {
      "cell_type": "markdown",
      "source": [
        "Once the data asset is registered, it can be accessed and inspected as described in the previous section."
      ],
      "metadata": {
        "nteract": {
          "transient": {
            "deleting": false
          }
        }
      }
    },
    {
      "cell_type": "code",
      "source": [
        "for registered_data in ml_client.data.list():\n",
        "    print(registered_data.name)"
      ],
      "outputs": [
        {
          "output_type": "stream",
          "name": "stdout",
          "text": "brain_stroke\n"
        }
      ],
      "execution_count": 9,
      "metadata": {
        "jupyter": {
          "source_hidden": false,
          "outputs_hidden": false
        },
        "nteract": {
          "transient": {
            "deleting": false
          }
        },
        "gather": {
          "logged": 1729353005035
        }
      }
    },
    {
      "cell_type": "markdown",
      "source": [
        "**Step4: Provide workspace details**"
      ],
      "metadata": {
        "nteract": {
          "transient": {
            "deleting": false
          }
        }
      }
    },
    {
      "cell_type": "markdown",
      "source": [
        "**Note: Select the subscription on the top right to see the credential information.**"
      ],
      "metadata": {
        "nteract": {
          "transient": {
            "deleting": false
          }
        }
      }
    },
    {
      "cell_type": "code",
      "source": [
        "display.Image(\"Image/Image3.png\")"
      ],
      "outputs": [
        {
          "output_type": "execute_result",
          "execution_count": 10,
          "data": {
            "image/png": "[encoded data removed]",
            "text/plain": "<IPython.core.display.Image object>"
          },
          "metadata": {}
        }
      ],
      "execution_count": 10,
      "metadata": {
        "jupyter": {
          "source_hidden": false,
          "outputs_hidden": false
        },
        "nteract": {
          "transient": {
            "deleting": false
          }
        },
        "gather": {
          "logged": 1729353005313
        }
      }
    },
    {
      "cell_type": "markdown",
      "source": [
        "**Step:4 Write down the processing script \"pre_process.py\" which will define the code to be executed for the processing job **\n\nSteps performed for data processing are as follows:\n\n* Import the necessary libraries\n\n* Set up command-line arguments using argparse. The script expects two arguments: --data for the path to the input data and --output for the path to the output data.\n\n* Parse the command-line arguments using argparse.\n\n* Prepare the data:\n\n* Read the input data from the specified path using pd.read_csv.\n\n* Data Cleaning:\n\n1. Define the target column and the numeric features.\n\n2. Separate the input features (X) and the target variable (y) from the dataset.\n\n3. Split the data into training and testing sets using train_test_split.\n\n* Prepare the data:\n\n1. Create a column transformer using make_column_transformer to apply a scaler (StandardScaler) to the numeric features.\n\n2. Apply the column transformer to the training and testing sets to transform the numeric features.\n\n* Define the output data store path.\n\n* Define the paths for the output files: training features, training labels, testing features, and testing labels.\n\n* Save the transformed training features to a CSV file using pd.DataFrame.to_csv.\n\n* Save the transformed testing features to a CSV file.\n\n* Save the training labels to a CSV file.\n\n* Save the testing labels to a CSV file."
      ],
      "metadata": {
        "nteract": {
          "transient": {
            "deleting": false
          }
        }
      }
    },
    {
      "cell_type": "code",
      "source": [
        "import os\n",
        "\n",
        "train_src_dir = \"./azure\"\n",
        "os.makedirs(train_src_dir, exist_ok=True)"
      ],
      "outputs": [],
      "execution_count": 11,
      "metadata": {
        "jupyter": {
          "source_hidden": false,
          "outputs_hidden": false
        },
        "nteract": {
          "transient": {
            "deleting": false
          }
        },
        "gather": {
          "logged": 1729353005427
        }
      }
    },
    {
      "cell_type": "code",
      "source": [
        "%%writefile {train_src_dir}/pre_process.py\n",
        "\n",
        "import argparse\n",
        "import pandas as pd\n",
        "from pathlib import Path\n",
        "\n",
        "from sklearn.preprocessing import StandardScaler\n",
        "from sklearn.compose import make_column_transformer\n",
        "from sklearn.model_selection import train_test_split\n",
        "\n",
        "if __name__ == \"__main__\":\n",
        "\n",
        "    \"\"\"Main function of the script.\"\"\"\n",
        "\n",
        "    # input and output arguments\n",
        "    parser = argparse.ArgumentParser()\n",
        "    parser.add_argument(\"--data\", type=str, help=\"path to input data\")\n",
        "    parser.add_argument(\"--output\", type=str, help=\"path to output data\")\n",
        "    args = parser.parse_args()\n",
        "   \n",
        "\n",
        "    ###################\n",
        "    #<prepare the data>\n",
        "    ###################\n",
        " \n",
        "    # Read the input data from the specified path\n",
        "    df = pd.read_csv(args.data)\n",
        "\n",
        "\n",
        "    ###################\n",
        "    #<Data Cleaning>\n",
        "    ###################\n",
        "\n",
        "    # Define the target column and the numeric features\n",
        "\n",
        "    target = 'stroke'\n",
        "    numeric_features = ['gender', 'age', 'hypertension', 'heart_disease', 'ever_married',\n",
        "       'work_type', 'residence_type', 'smoking_status', 'is_paralyzed',\n",
        "       'avg_glucose_level', 'bmi']\n",
        "    \n",
        "    # Separate the input features (X) and the target variable (y)\n",
        "\n",
        "    X = df.drop(columns=[target])\n",
        "    y = df[target]\n",
        "\n",
        "    # Split the data into training and testing sets\n",
        "    Xtrain, Xtest, ytrain, ytest = train_test_split(\n",
        "        X, y,\n",
        "        test_size=0.2,\n",
        "        random_state=42\n",
        "    )\n",
        "\n",
        "    # Define a column transformer to scale the numeric features\n",
        "    preprocessor = make_column_transformer(\n",
        "        (StandardScaler(), numeric_features)\n",
        "    )\n",
        "    \n",
        "    # Apply the column transformer to the training and testing sets\n",
        "    transformed_Xtrain = preprocessor.fit_transform(Xtrain)\n",
        "    transformed_Xtest = preprocessor.transform(Xtest)\n",
        "    \n",
        "    # Define the output data store path\n",
        "    output_data_store = args.output\n",
        "\n",
        "    # Define the paths for the output files\n",
        "    train_features_output_path = Path(output_data_store, \"train_features.csv\")\n",
        "    train_labels_output_path = Path(output_data_store, \"train_labels.csv\")\n",
        "    \n",
        "    test_features_output_path = Path(output_data_store, \"test_features.csv\")\n",
        "    test_labels_output_path = Path(output_data_store, \"test_labels.csv\")\n",
        "\n",
        "    # Save the transformed training features to a CSV file\n",
        "    pd.DataFrame(transformed_Xtrain).to_csv(train_features_output_path, index=False)\n",
        "    # Save the transformed testing features to a CSV file\n",
        "    pd.DataFrame(transformed_Xtest).to_csv(test_features_output_path, index=False)\n",
        "\n",
        "    # Save the training labels to a CSV file\n",
        "    ytrain.to_csv(train_labels_output_path, index=False)\n",
        "    # Save the testing labels to a CSV file\n",
        "    ytest.to_csv(test_labels_output_path, index=False)"
      ],
      "outputs": [
        {
          "output_type": "stream",
          "name": "stdout",
          "text": "Overwriting ./azure/pre_process.py\n"
        }
      ],
      "execution_count": 12,
      "metadata": {
        "jupyter": {
          "source_hidden": false,
          "outputs_hidden": false
        },
        "nteract": {
          "transient": {
            "deleting": false
          }
        }
      }
    },
    {
      "cell_type": "markdown",
      "source": [
        "**Step:5 Configure the command**"
      ],
      "metadata": {
        "nteract": {
          "transient": {
            "deleting": false
          }
        }
      }
    },
    {
      "cell_type": "markdown",
      "source": [
        "Here, we'll create input variables to specify the input data, split ratio and output data. The command script will:\n",
        "* Use the compute cluster to run the command.\n",
        "* Use an environment that defines software and runtime libraries needed for the processing script.\n",
        "* Configure the command line action itself - python pre_process.py in this case. The inputs/outputs are accessible in the command via the ${{ ... }} notation.\n",
        "* In this sample, we access the data from a file present in the local machine and store the processed data in the Datastores."
      ],
      "metadata": {
        "nteract": {
          "transient": {
            "deleting": false
          }
        }
      }
    },
    {
      "cell_type": "code",
      "source": [
        "datastore_path = \"azureml://datastores/workspaceblobstore/paths/training-data/\""
      ],
      "outputs": [],
      "execution_count": 13,
      "metadata": {
        "jupyter": {
          "source_hidden": false,
          "outputs_hidden": false
        },
        "nteract": {
          "transient": {
            "deleting": false
          }
        },
        "gather": {
          "logged": 1729353005608
        }
      }
    },
    {
      "cell_type": "code",
      "source": [
        "my_job_inputs = {\n",
        "    \"input_data\": Input(type=AssetTypes.URI_FILE, \n",
        "                        path=\"azureml:brain_stroke_processed:3\")\n",
        "}\n",
        "\n",
        "my_job_outputs = {\n",
        "    \"output_datastore\": Output(type=AssetTypes.URI_FOLDER,\n",
        "                               path=datastore_path)\n",
        "}"
      ],
      "outputs": [],
      "execution_count": 14,
      "metadata": {
        "jupyter": {
          "source_hidden": false,
          "outputs_hidden": false
        },
        "nteract": {
          "transient": {
            "deleting": false
          }
        },
        "gather": {
          "logged": 1729353005720
        }
      }
    },
    {
      "cell_type": "code",
      "source": [
        "job = command(\n",
        "    code=\"./azure\",  # location of source code\n",
        "    command=\"python pre_process.py --data ${{inputs.input_data}} --output ${{outputs.output_datastore}}\",\n",
        "    inputs= my_job_inputs,\n",
        "    outputs=my_job_outputs,\n",
        "    environment=\"AzureML-sklearn-0.24-ubuntu18.04-py37-cpu@latest\",\n",
        "    compute=\"pinhe512611\",\n",
        "    experiment_name=\"brain_stroke_preprocessing\",\n",
        "    display_name=\"brain_stroke\"\n",
        ")"
      ],
      "outputs": [],
      "execution_count": 17,
      "metadata": {
        "jupyter": {
          "source_hidden": false,
          "outputs_hidden": false
        },
        "nteract": {
          "transient": {
            "deleting": false
          }
        },
        "gather": {
          "logged": 1729353058067
        }
      }
    },
    {
      "cell_type": "markdown",
      "source": [
        "**Step:9 Submit the job**"
      ],
      "metadata": {
        "nteract": {
          "transient": {
            "deleting": false
          }
        }
      }
    },
    {
      "cell_type": "code",
      "source": [
        "ml_client.create_or_update(job)"
      ],
      "outputs": [
        {
          "output_type": "stream",
          "name": "stderr",
          "text": "pathOnCompute is not a known attribute of class <class 'azure.ai.ml._restclient.v2023_04_01_preview.models._models_py3.UriFolderJobOutput'> and will be ignored\n"
        },
        {
          "output_type": "execute_result",
          "execution_count": 18,
          "data": {
            "text/plain": "Command({'parameters': {}, 'init': False, 'name': 'magenta_window_h9fy4r2dkt', 'type': 'command', 'status': 'Starting', 'log_files': None, 'description': None, 'tags': {}, 'properties': {'_azureml.ComputeTargetType': 'amlcdsi', '_azureml.ClusterName': 'pinhe512611', 'ContentSnapshotId': 'df51891e-b68b-4f46-83f7-f9e12856ab16'}, 'print_as_yaml': False, 'id': '/subscriptions/6793e723-756c-4c5d-84c0-812f1bb4c679/resourceGroups/JuvlinResourceGroup/providers/Microsoft.MachineLearningServices/workspaces/JuvlinWorkspace/jobs/magenta_window_h9fy4r2dkt', 'Resource__source_path': '', 'base_path': '/mnt/batch/tasks/shared/LS_root/mounts/clusters/pinhe512611/code/Users/pinhe51261/Code', 'creation_context': <azure.ai.ml.entities._system_data.SystemData object at 0x7f87a738fbe0>, 'serialize': <msrest.serialization.Serializer object at 0x7f87a682b430>, 'allowed_keys': {}, 'key_restriction': False, 'logger': <TraceLogger attr_dict (WARNING)>, 'display_name': 'brain_stroke', 'experiment_name': 'brain_stroke_preprocessing', 'compute': 'pinhe512611', 'services': {'Tracking': {'endpoint': 'azureml://eastus2.api.azureml.ms/mlflow/v1.0/subscriptions/6793e723-756c-4c5d-84c0-812f1bb4c679/resourceGroups/JuvlinResourceGroup/providers/Microsoft.MachineLearningServices/workspaces/JuvlinWorkspace?', 'type': 'Tracking'}, 'Studio': {'endpoint': 'https://ml.azure.com/runs/magenta_window_h9fy4r2dkt?wsid=/subscriptions/6793e723-756c-4c5d-84c0-812f1bb4c679/resourcegroups/JuvlinResourceGroup/workspaces/JuvlinWorkspace&tid=99ce5d02-76a7-4357-a30e-e4c19d65ba5f', 'type': 'Studio'}}, 'comment': None, 'job_inputs': {'input_data': {'type': 'uri_file', 'path': 'brain_stroke_processed:3', 'mode': 'ro_mount'}}, 'job_outputs': {'output_datastore': {'type': 'uri_folder', 'path': 'azureml://datastores/workspaceblobstore/paths/training-data/', 'mode': 'rw_mount'}, 'default': {'type': 'uri_folder', 'path': 'azureml://datastores/workspaceartifactstore/ExperimentRun/dcid.magenta_window_h9fy4r2dkt', 'mode': 'rw_mount'}}, 'inputs': {'input_data': <azure.ai.ml.entities._job.pipeline._io.base.NodeInput object at 0x7f87a682ae00>}, 'outputs': {'output_datastore': <azure.ai.ml.entities._job.pipeline._io.base.NodeOutput object at 0x7f87a682a860>, 'default': <azure.ai.ml.entities._job.pipeline._io.base.NodeOutput object at 0x7f87a682b850>}, 'component': CommandComponent({'latest_version': None, 'intellectual_property': None, 'auto_increment_version': True, 'source': 'REMOTE.WORKSPACE.JOB', 'is_anonymous': False, 'auto_delete_setting': None, 'name': 'magenta_window_h9fy4r2dkt', 'description': None, 'tags': {}, 'properties': {}, 'print_as_yaml': False, 'id': None, 'Resource__source_path': None, 'base_path': '/mnt/batch/tasks/shared/LS_root/mounts/clusters/pinhe512611/code/Users/pinhe51261/Code', 'creation_context': <azure.ai.ml.entities._system_data.SystemData object at 0x7f87a738fbe0>, 'serialize': <msrest.serialization.Serializer object at 0x7f87a682a5f0>, 'command': 'python pre_process.py --data ${{inputs.input_data}} --output ${{outputs.output_datastore}}', 'code': '/subscriptions/6793e723-756c-4c5d-84c0-812f1bb4c679/resourceGroups/JuvlinResourceGroup/providers/Microsoft.MachineLearningServices/workspaces/JuvlinWorkspace/codes/554ac297-a08b-4c9d-b9bf-358ef6d1ad03/versions/1', 'environment_variables': {}, 'environment': 'azureml:AzureML-sklearn-0.24-ubuntu18.04-py37-cpu@latest', 'distribution': None, 'resources': None, 'queue_settings': None, 'version': None, 'schema': None, 'type': 'command', 'display_name': 'brain_stroke', 'is_deterministic': True, 'inputs': {'input_data': {'type': 'uri_file', 'path': '/subscriptions/6793e723-756c-4c5d-84c0-812f1bb4c679/resourceGroups/JuvlinResourceGroup/providers/Microsoft.MachineLearningServices/workspaces/JuvlinWorkspace/data/brain_stroke_processed/versions/3', 'mode': 'ro_mount'}}, 'outputs': {'output_datastore': {'type': 'uri_folder', 'path': 'azureml://datastores/workspaceblobstore/paths/training-data/', 'mode': 'rw_mount'}, 'default': {'type': 'uri_folder', 'path': 'azureml://datastores/workspaceartifactstore/ExperimentRun/dcid.magenta_window_h9fy4r2dkt', 'mode': 'rw_mount'}}, 'yaml_str': None, 'other_parameter': {'status': 'Starting', 'parameters': {}}, 'additional_includes': []}), 'referenced_control_flow_node_instance_id': None, 'kwargs': {'services': {'Tracking': {'endpoint': 'azureml://eastus2.api.azureml.ms/mlflow/v1.0/subscriptions/6793e723-756c-4c5d-84c0-812f1bb4c679/resourceGroups/JuvlinResourceGroup/providers/Microsoft.MachineLearningServices/workspaces/JuvlinWorkspace?', 'type': 'Tracking'}, 'Studio': {'endpoint': 'https://ml.azure.com/runs/magenta_window_h9fy4r2dkt?wsid=/subscriptions/6793e723-756c-4c5d-84c0-812f1bb4c679/resourcegroups/JuvlinResourceGroup/workspaces/JuvlinWorkspace&tid=99ce5d02-76a7-4357-a30e-e4c19d65ba5f', 'type': 'Studio'}}, 'status': 'Starting', 'creation_context': <azure.ai.ml.entities._system_data.SystemData object at 0x7f87a738fbe0>}, 'instance_id': '31ed536a-512d-45c4-95f5-3b1c054fa2a9', 'source': 'BUILDER', 'validate_required_input_not_provided': True, 'limits': None, 'identity': None, 'distribution': None, 'environment_variables': {}, 'environment': 'azureml:AzureML-sklearn-0.24-ubuntu18.04-py37-cpu@latest', 'resources': {'instance_count': 1, 'shm_size': '2g'}, 'queue_settings': None, 'swept': False})",
            "text/html": "<table style=\"width:100%\"><tr><th>Experiment</th><th>Name</th><th>Type</th><th>Status</th><th>Details Page</th></tr><tr><td>brain_stroke_preprocessing</td><td>magenta_window_h9fy4r2dkt</td><td>command</td><td>Starting</td><td><a href=\"https://ml.azure.com/runs/magenta_window_h9fy4r2dkt?wsid=/subscriptions/6793e723-756c-4c5d-84c0-812f1bb4c679/resourcegroups/JuvlinResourceGroup/workspaces/JuvlinWorkspace&amp;tid=99ce5d02-76a7-4357-a30e-e4c19d65ba5f\" target=\"_blank\" rel=\"noopener\">Link to Azure Machine Learning studio</a></td></tr></table>"
          },
          "metadata": {}
        }
      ],
      "execution_count": 18,
      "metadata": {
        "jupyter": {
          "source_hidden": false,
          "outputs_hidden": false
        },
        "nteract": {
          "transient": {
            "deleting": false
          }
        },
        "gather": {
          "logged": 1729353059317
        }
      }
    },
    {
      "cell_type": "markdown",
      "source": [
        "**Note1: We can check the status of the Job by going to the \"Jobs\" on the left.**\n",
        "\n",
        "**Note2: We can check the stored output data by directing towards the datastores from the left panel.**"
      ],
      "metadata": {
        "nteract": {
          "transient": {
            "deleting": false
          }
        }
      }
    },
    {
      "cell_type": "markdown",
      "source": [
        "______________________________________________________________________________________"
      ],
      "metadata": {
        "nteract": {
          "transient": {
            "deleting": false
          }
        }
      }
    },
    {
      "cell_type": "markdown",
      "source": [
        "**Important Note: Create a folder/directory in your Azure workspace called \"Image\" and upload all the shared images in the folder. By doing so you will be able to extract all the screenshots present in the code.**"
      ],
      "metadata": {
        "nteract": {
          "transient": {
            "deleting": false
          }
        }
      }
    },
    {
      "cell_type": "code",
      "source": [],
      "outputs": [],
      "execution_count": null,
      "metadata": {
        "jupyter": {
          "source_hidden": false,
          "outputs_hidden": false
        },
        "nteract": {
          "transient": {
            "deleting": false
          }
        }
      }
    }
  ],
  "metadata": {
    "kernelspec": {
      "name": "python310-sdkv2",
      "language": "python",
      "display_name": "Python 3.10 - SDK v2"
    },
    "language_info": {
      "name": "python",
      "version": "3.10.14",
      "mimetype": "text/x-python",
      "codemirror_mode": {
        "name": "ipython",
        "version": 3
      },
      "pygments_lexer": "ipython3",
      "nbconvert_exporter": "python",
      "file_extension": ".py"
    },
    "microsoft": {
      "ms_spell_check": {
        "ms_spell_check_language": "en"
      },
      "host": {
        "AzureML": {
          "notebookHasBeenCompleted": true
        }
      }
    },
    "nteract": {
      "version": "nteract-front-end@1.0.0"
    },
    "kernel_info": {
      "name": "python310-sdkv2"
    }
  },
  "nbformat": 4,
  "nbformat_minor": 2
}