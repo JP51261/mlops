{
 "cells": [
  {
   "attachments": {},
   "cell_type": "markdown",
   "metadata": {},
   "source": [
    "# Objective "
   ]
  },
  {
   "attachments": {},
   "cell_type": "markdown",
   "metadata": {},
   "source": [
    "Illustrate mechanisms within AWS SageMaker and Azure ML to deploy models including:\n",
    "\n",
    "- API deployment\n",
    "- Safe rollout using A/B testing"
   ]
  },
  {
   "attachments": {},
   "cell_type": "markdown",
   "metadata": {},
   "source": [
    "# Introduction"
   ]
  },
  {
   "attachments": {},
   "cell_type": "markdown",
   "metadata": {},
   "source": [
    "Model deployment involves taking a trained machine learning model and making it available for real-time predictions or inferences. When it comes to deploying models, there are two primary outcomes to consider: APIs (Application Programming Interfaces) and edge deployment. These two modes offer distinct advantages and cater to different use cases.\n",
    "\n",
    "API deployment involves hosting the machine learning model on a server and exposing it as a service through an API. This allows clients or applications to send requests to the API and receive predictions or inferences in response. API deployment is ideal for scenarios where there is a centralized infrastructure and clients have reliable network connectivity. Examples of API deployment include using frameworks like Flask or FastAPI to build a RESTful API for deploying a natural language processing (NLP) model or an image recognition model.\n",
    "\n",
    "On the other hand, edge deployment brings the model closer to the data source or the client device itself, reducing latency and enabling real-time predictions without relying on a network connection. In this mode, the model runs directly on edge devices such as smartphones, IoT devices, or embedded systems. Edge deployment is particularly valuable in scenarios where low latency, privacy, or intermittent network connectivity is crucial. Examples of edge deployment include deploying a computer vision model on a surveillance camera to detect anomalies in real-time or deploying a speech recognition model on a smartphone for offline voice commands."
   ]
  },
  {
   "attachments": {},
   "cell_type": "markdown",
   "metadata": {},
   "source": [
    "## What are APIs?"
   ]
  },
  {
   "attachments": {},
   "cell_type": "markdown",
   "metadata": {},
   "source": [
    "A common method to deploy a model on the web is to wrap the saved model as a API service and allow users (clients) to send requests. Incoming requests are parsed into the appropriate input format by the service and presented to the model for inference. This inference is returned to the user as a response. Each request is handled by a specific resource (in our case a model) that is identified by a unique *endpoint*. \n",
    "\n",
    "Think of an endpoint as the unique URL that is shared with the client to interface with the model; all they can do is to send a request to the endpoint (i.e., they have no access to any detail on how the response is generated). Intuitively, it is like a storefront (a unique address) where they come to collect their predictions. They do not worry about *how* the predictions are made. An endpoint separates the user-facing \"front end\" from a predictve model infused \"back end\". \n",
    "\n",
    "But what exactly is an Application Programming Interface (API)?"
   ]
  },
  {
   "attachments": {},
   "cell_type": "markdown",
   "metadata": {},
   "source": [
    "APIs prescribe the mechanism through which any two computers can exchange information over a network. Given that there could be many ways to execute this exchange, it would be prudent to formalize this exchange as a set of rules that we agree. These rules are encoded as REST principles. "
   ]
  },
  {
   "attachments": {},
   "cell_type": "markdown",
   "metadata": {},
   "source": [
    "![rest-api](assets/rest-api.drawio.png)"
   ]
  },
  {
   "attachments": {},
   "cell_type": "markdown",
   "metadata": {},
   "source": [
    "REpresentational State Transfer (REST) APIs are programming language agnostic and encode a set of rules that constitute a REST-ful API. These rules are:\n",
    "\n",
    "- Clients can only make POST, GET, PUT, or DELETE requests\n",
    "- These requests can contain an optional payload (usually a [JSON object](https://www.json.org/json-en.html))\n",
    "- All requests should return a response with a code indicating the status of the response (200's - Success, 400's - Improper request, 500's - Server side errors)\n",
    "\n",
    "In the context of ML deployment, clients send a POST request with a payload containing the input data needed by the model to make a prediction. For example, to get a classification result on their input, showrooms should attach the features of a diamond as a payload and upload it to the unique URL encoded by the endpoint. The server parses this input, presents it to the model, collects the prediction and sends a response (along with a status code) back to the client. In sum, customers *post* an input and the business serves a response.\n",
    "\n",
    "Common web frameworks used in production that implement the REST framework in Python are [Flask](https://palletsprojects.com/p/flask/) and [FastAPI](https://fastapi.tiangolo.com/). Flask is a popular REST implementation that is used by [SageMaker](https://aws.amazon.com/blogs/machine-learning/part-2-model-hosting-patterns-in-amazon-sagemaker-getting-started-with-deploying-real-time-models-on-sagemaker/) to create a web server for ML models. The advantage of Flask is that owing to its longer existence, it enjoys a wider ecosystem compared with FastAPI. Beyond these general purpose implementations, specialized implementations also exist. For example, [TensorFlow Serving](https://www.tensorflow.org/tfx/guide/serving) implements the REST framework in C++ for TensorFlow models and hence can be more performant for deep learning models."
   ]
  },
  {
   "attachments": {},
   "cell_type": "markdown",
   "metadata": {},
   "source": [
    "## Models as APIs"
   ]
  },
  {
   "attachments": {},
   "cell_type": "markdown",
   "metadata": {},
   "source": [
    "<div class=\"alert alert-block alert-warning\">\n",
    "\n",
    "<b>Business Context (Review)</b> \n",
    "    \n",
    "For this session consider the case of a popular diamond jeweller - Brilliant Earth - with 30 showrooms across the US facing a price prediction problem. A common customer question that echoes in their retail outlets is the impact on price because of changes in some aspects of the ornament. For example, usually customers ask: \"If I decreased the carat of the diamonds used in this design, by how much would the price reduce?\". Such queries often require an expert intervention on the shopfloor and result in a subdued customer experience. The company also wants to implement a price predictor tool on their website so customers can engage with the brand better. At the moment, no such tool exists and the business team estimates that a price predictor will improve traffic to the website and also improve the time spent on the website.\n",
    "\n",
    "The dataset used in this session is scraped from the [Brilliant Earth website](https://www.brilliantearth.com/) and hosted on [Open ML](https://www.openml.org/search?type=data&status=active&id=43355).\n",
    "\n",
    "</div>"
   ]
  },
  {
   "attachments": {},
   "cell_type": "markdown",
   "metadata": {},
   "source": [
    "An example of a fully fleshed out endpoint for the diamond price prediction problem is [here](https://pgurazada1-diamond-price-predictor.hf.space/). In the rest of this session, we present the details behind building a REST API with the models estimated at their core."
   ]
  },
  {
   "attachments": {},
   "cell_type": "markdown",
   "metadata": {},
   "source": [
    "# Setup"
   ]
  },
  {
   "attachments": {},
   "cell_type": "markdown",
   "metadata": {},
   "source": [
    "**General Imports**"
   ]
  },
  {
   "cell_type": "code",
   "execution_count": 1,
   "metadata": {},
   "outputs": [],
   "source": [
    "import logging\n",
    "\n",
    "import pandas as pd"
   ]
  },
  {
   "attachments": {},
   "cell_type": "markdown",
   "metadata": {},
   "source": [
    "**AWS imports & authentication**"
   ]
  },
  {
   "cell_type": "code",
   "execution_count": 2,
   "metadata": {},
   "outputs": [],
   "source": [
    "import sagemaker\n",
    "import boto3\n",
    "\n",
    "from sagemaker.sklearn.estimator import SKLearn\n",
    "from sagemaker.sklearn.estimator import SKLearnModel\n",
    "\n",
    "from sagemaker.session import production_variant"
   ]
  },
  {
   "attachments": {},
   "cell_type": "markdown",
   "metadata": {},
   "source": [
    "A `sagemaker` session is a cloud equivalent to a fully functional local development setup (i.e., access enabled to data and compute). We can point a session to a default bucket that will host all the artifacts accessed and created during the session (remember nothing stays local). "
   ]
  },
  {
   "cell_type": "code",
   "execution_count": 3,
   "metadata": {},
   "outputs": [],
   "source": [
    "deployment_session = sagemaker.Session(\n",
    "    default_bucket=\"sagemaker-deployment-examples\"\n",
    ")"
   ]
  },
  {
   "cell_type": "code",
   "execution_count": 4,
   "metadata": {},
   "outputs": [],
   "source": [
    "try:\n",
    "    aws_role = sagemaker.get_execution_role()\n",
    "except ValueError:\n",
    "    print(\"Config file not found on local machine, use SageMaker Studio\")"
   ]
  },
  {
   "attachments": {},
   "cell_type": "markdown",
   "metadata": {},
   "source": [
    "From within SageMaker studio, execution role is inherited. Outside the Studio environment, the execution role should be explictly specified. This execution role should have [AmazonSageMakerFullAccess](https://docs.aws.amazon.com/sagemaker/latest/dg/security-iam-awsmanpol.html) permissions. Local compute [access](https://docs.aws.amazon.com/cli/latest/userguide/cli-configure-files.html) should also be [enabled](https://stackoverflow.com/a/47767351)."
   ]
  },
  {
   "cell_type": "code",
   "execution_count": 5,
   "metadata": {},
   "outputs": [
    {
     "name": "stdout",
     "output_type": "stream",
     "text": [
      "AWS execution role associated with the account arn:aws:iam::321112151583:role/default-sagemaker-access\n"
     ]
    }
   ],
   "source": [
    "print(f\"AWS execution role associated with the account {aws_role}\")"
   ]
  },
  {
   "attachments": {},
   "cell_type": "markdown",
   "metadata": {},
   "source": [
    "**Azure imports & authentication**"
   ]
  },
  {
   "cell_type": "code",
   "execution_count": 6,
   "metadata": {},
   "outputs": [],
   "source": [
    "from azure.ai.ml import MLClient\n",
    "from azure.identity import DefaultAzureCredential\n",
    "\n",
    "from azure.ai.ml import Input\n",
    "from azure.ai.ml import command\n",
    "\n",
    "from azure.ai.ml.entities import (\n",
    "    ManagedOnlineEndpoint,\n",
    "    ManagedOnlineDeployment,\n",
    "    CodeConfiguration\n",
    ")"
   ]
  },
  {
   "cell_type": "code",
   "execution_count": 7,
   "metadata": {},
   "outputs": [],
   "source": [
    "subscription_id = \"5bcad9c4-40fb-4136-b614-cc90116dd8b3\"\n",
    "resource_group = \"tf\"\n",
    "workspace = \"cloud-teach\""
   ]
  },
  {
   "cell_type": "code",
   "execution_count": 8,
   "metadata": {},
   "outputs": [],
   "source": [
    "logger = logging.getLogger(\"azure.core.pipeline.policies.http_logging_policy\")\n",
    "logger.setLevel(logging.WARNING)"
   ]
  },
  {
   "attachments": {},
   "cell_type": "markdown",
   "metadata": {},
   "source": [
    "From VMs within the Azure ML workspace, the default Azure credentials are inherited. However, interactive browser credentials could be used to authenticate an Azure account to the Azure ML workspace."
   ]
  },
  {
   "cell_type": "code",
   "execution_count": 9,
   "metadata": {},
   "outputs": [],
   "source": [
    "az_credentials = DefaultAzureCredential(\n",
    "    exclude_interactive_browser_credential=False\n",
    ")"
   ]
  },
  {
   "cell_type": "code",
   "execution_count": 10,
   "metadata": {},
   "outputs": [],
   "source": [
    "ml_client = MLClient(\n",
    "    az_credentials, subscription_id, resource_group, workspace\n",
    ")"
   ]
  },
  {
   "attachments": {},
   "cell_type": "markdown",
   "metadata": {},
   "source": [
    "# Data"
   ]
  },
  {
   "attachments": {},
   "cell_type": "markdown",
   "metadata": {},
   "source": [
    "## AWS"
   ]
  },
  {
   "cell_type": "code",
   "execution_count": 11,
   "metadata": {},
   "outputs": [],
   "source": [
    "diamonds_df = pd.read_csv('s3://sagemaker-ap-south-1-321112151583/prices/diamond-prices.csv')"
   ]
  },
  {
   "cell_type": "code",
   "execution_count": 12,
   "metadata": {},
   "outputs": [
    {
     "data": {
      "text/html": [
       "<div>\n",
       "<style scoped>\n",
       "    .dataframe tbody tr th:only-of-type {\n",
       "        vertical-align: middle;\n",
       "    }\n",
       "\n",
       "    .dataframe tbody tr th {\n",
       "        vertical-align: top;\n",
       "    }\n",
       "\n",
       "    .dataframe thead th {\n",
       "        text-align: right;\n",
       "    }\n",
       "</style>\n",
       "<table border=\"1\" class=\"dataframe\">\n",
       "  <thead>\n",
       "    <tr style=\"text-align: right;\">\n",
       "      <th></th>\n",
       "      <th>id</th>\n",
       "      <th>url</th>\n",
       "      <th>shape</th>\n",
       "      <th>price</th>\n",
       "      <th>carat</th>\n",
       "      <th>cut</th>\n",
       "      <th>color</th>\n",
       "      <th>clarity</th>\n",
       "      <th>report</th>\n",
       "      <th>type</th>\n",
       "      <th>date_fetched</th>\n",
       "    </tr>\n",
       "  </thead>\n",
       "  <tbody>\n",
       "    <tr>\n",
       "      <th>0</th>\n",
       "      <td>10086429.0</td>\n",
       "      <td>https://www.brilliantearth.com//loose-diamonds...</td>\n",
       "      <td>Round</td>\n",
       "      <td>400.0</td>\n",
       "      <td>0.30</td>\n",
       "      <td>Very Good</td>\n",
       "      <td>J</td>\n",
       "      <td>SI2</td>\n",
       "      <td>GIA</td>\n",
       "      <td>natural</td>\n",
       "      <td>2020-11-29 12-26 PM</td>\n",
       "    </tr>\n",
       "    <tr>\n",
       "      <th>1</th>\n",
       "      <td>10016334.0</td>\n",
       "      <td>https://www.brilliantearth.com//loose-diamonds...</td>\n",
       "      <td>Emerald</td>\n",
       "      <td>400.0</td>\n",
       "      <td>0.31</td>\n",
       "      <td>Ideal</td>\n",
       "      <td>I</td>\n",
       "      <td>SI1</td>\n",
       "      <td>GIA</td>\n",
       "      <td>natural</td>\n",
       "      <td>2020-11-29 12-26 PM</td>\n",
       "    </tr>\n",
       "    <tr>\n",
       "      <th>2</th>\n",
       "      <td>9947216.0</td>\n",
       "      <td>https://www.brilliantearth.com//loose-diamonds...</td>\n",
       "      <td>Emerald</td>\n",
       "      <td>400.0</td>\n",
       "      <td>0.30</td>\n",
       "      <td>Ideal</td>\n",
       "      <td>I</td>\n",
       "      <td>VS2</td>\n",
       "      <td>GIA</td>\n",
       "      <td>natural</td>\n",
       "      <td>2020-11-29 12-26 PM</td>\n",
       "    </tr>\n",
       "    <tr>\n",
       "      <th>3</th>\n",
       "      <td>10083437.0</td>\n",
       "      <td>https://www.brilliantearth.com//loose-diamonds...</td>\n",
       "      <td>Round</td>\n",
       "      <td>400.0</td>\n",
       "      <td>0.30</td>\n",
       "      <td>Ideal</td>\n",
       "      <td>I</td>\n",
       "      <td>SI2</td>\n",
       "      <td>GIA</td>\n",
       "      <td>natural</td>\n",
       "      <td>2020-11-29 12-26 PM</td>\n",
       "    </tr>\n",
       "    <tr>\n",
       "      <th>4</th>\n",
       "      <td>9946136.0</td>\n",
       "      <td>https://www.brilliantearth.com//loose-diamonds...</td>\n",
       "      <td>Emerald</td>\n",
       "      <td>400.0</td>\n",
       "      <td>0.30</td>\n",
       "      <td>Ideal</td>\n",
       "      <td>I</td>\n",
       "      <td>SI1</td>\n",
       "      <td>GIA</td>\n",
       "      <td>natural</td>\n",
       "      <td>2020-11-29 12-26 PM</td>\n",
       "    </tr>\n",
       "  </tbody>\n",
       "</table>\n",
       "</div>"
      ],
      "text/plain": [
       "           id                                                url    shape   \n",
       "0  10086429.0  https://www.brilliantearth.com//loose-diamonds...    Round  \\\n",
       "1  10016334.0  https://www.brilliantearth.com//loose-diamonds...  Emerald   \n",
       "2   9947216.0  https://www.brilliantearth.com//loose-diamonds...  Emerald   \n",
       "3  10083437.0  https://www.brilliantearth.com//loose-diamonds...    Round   \n",
       "4   9946136.0  https://www.brilliantearth.com//loose-diamonds...  Emerald   \n",
       "\n",
       "   price  carat        cut color clarity report     type         date_fetched  \n",
       "0  400.0   0.30  Very Good     J     SI2    GIA  natural  2020-11-29 12-26 PM  \n",
       "1  400.0   0.31      Ideal     I     SI1    GIA  natural  2020-11-29 12-26 PM  \n",
       "2  400.0   0.30      Ideal     I     VS2    GIA  natural  2020-11-29 12-26 PM  \n",
       "3  400.0   0.30      Ideal     I     SI2    GIA  natural  2020-11-29 12-26 PM  \n",
       "4  400.0   0.30      Ideal     I     SI1    GIA  natural  2020-11-29 12-26 PM  "
      ]
     },
     "execution_count": 12,
     "metadata": {},
     "output_type": "execute_result"
    }
   ],
   "source": [
    "diamonds_df.head()"
   ]
  },
  {
   "attachments": {},
   "cell_type": "markdown",
   "metadata": {},
   "source": [
    "## Azure"
   ]
  },
  {
   "cell_type": "code",
   "execution_count": 13,
   "metadata": {},
   "outputs": [
    {
     "name": "stdout",
     "output_type": "stream",
     "text": [
      "winequality-local\n",
      "winequality-red\n",
      "user-likes-media\n",
      "socialmediaengagement\n",
      "imdb_reviews\n",
      "diamond-prices-jan\n",
      "diamond-prices-feb\n",
      "wine-quality-indicator\n",
      "diamond-prices-may\n"
     ]
    }
   ],
   "source": [
    "for registered_data in ml_client.data.list():\n",
    "    print(registered_data.name)"
   ]
  },
  {
   "cell_type": "code",
   "execution_count": 14,
   "metadata": {},
   "outputs": [],
   "source": [
    "diamond_prices_data = ml_client.data.get(\n",
    "    name=\"diamond-prices-jan\",\n",
    "    version=1\n",
    ")"
   ]
  },
  {
   "cell_type": "code",
   "execution_count": 15,
   "metadata": {},
   "outputs": [],
   "source": [
    "diamonds_df = pd.read_csv(diamond_prices_data.path)"
   ]
  },
  {
   "cell_type": "code",
   "execution_count": 16,
   "metadata": {},
   "outputs": [
    {
     "data": {
      "text/html": [
       "<div>\n",
       "<style scoped>\n",
       "    .dataframe tbody tr th:only-of-type {\n",
       "        vertical-align: middle;\n",
       "    }\n",
       "\n",
       "    .dataframe tbody tr th {\n",
       "        vertical-align: top;\n",
       "    }\n",
       "\n",
       "    .dataframe thead th {\n",
       "        text-align: right;\n",
       "    }\n",
       "</style>\n",
       "<table border=\"1\" class=\"dataframe\">\n",
       "  <thead>\n",
       "    <tr style=\"text-align: right;\">\n",
       "      <th></th>\n",
       "      <th>id</th>\n",
       "      <th>url</th>\n",
       "      <th>shape</th>\n",
       "      <th>price</th>\n",
       "      <th>carat</th>\n",
       "      <th>cut</th>\n",
       "      <th>color</th>\n",
       "      <th>clarity</th>\n",
       "      <th>report</th>\n",
       "      <th>type</th>\n",
       "      <th>date_fetched</th>\n",
       "    </tr>\n",
       "  </thead>\n",
       "  <tbody>\n",
       "    <tr>\n",
       "      <th>0</th>\n",
       "      <td>10086429</td>\n",
       "      <td>https://www.brilliantearth.com//loose-diamonds...</td>\n",
       "      <td>Round</td>\n",
       "      <td>400</td>\n",
       "      <td>0.30</td>\n",
       "      <td>'Very Good'</td>\n",
       "      <td>J</td>\n",
       "      <td>SI2</td>\n",
       "      <td>GIA</td>\n",
       "      <td>natural</td>\n",
       "      <td>'2020-11-29 12-26 PM'</td>\n",
       "    </tr>\n",
       "    <tr>\n",
       "      <th>1</th>\n",
       "      <td>10016334</td>\n",
       "      <td>https://www.brilliantearth.com//loose-diamonds...</td>\n",
       "      <td>Emerald</td>\n",
       "      <td>400</td>\n",
       "      <td>0.31</td>\n",
       "      <td>Ideal</td>\n",
       "      <td>I</td>\n",
       "      <td>SI1</td>\n",
       "      <td>GIA</td>\n",
       "      <td>natural</td>\n",
       "      <td>'2020-11-29 12-26 PM'</td>\n",
       "    </tr>\n",
       "    <tr>\n",
       "      <th>2</th>\n",
       "      <td>9947216</td>\n",
       "      <td>https://www.brilliantearth.com//loose-diamonds...</td>\n",
       "      <td>Emerald</td>\n",
       "      <td>400</td>\n",
       "      <td>0.30</td>\n",
       "      <td>Ideal</td>\n",
       "      <td>I</td>\n",
       "      <td>VS2</td>\n",
       "      <td>GIA</td>\n",
       "      <td>natural</td>\n",
       "      <td>'2020-11-29 12-26 PM'</td>\n",
       "    </tr>\n",
       "    <tr>\n",
       "      <th>3</th>\n",
       "      <td>10083437</td>\n",
       "      <td>https://www.brilliantearth.com//loose-diamonds...</td>\n",
       "      <td>Round</td>\n",
       "      <td>400</td>\n",
       "      <td>0.30</td>\n",
       "      <td>Ideal</td>\n",
       "      <td>I</td>\n",
       "      <td>SI2</td>\n",
       "      <td>GIA</td>\n",
       "      <td>natural</td>\n",
       "      <td>'2020-11-29 12-26 PM'</td>\n",
       "    </tr>\n",
       "    <tr>\n",
       "      <th>4</th>\n",
       "      <td>9946136</td>\n",
       "      <td>https://www.brilliantearth.com//loose-diamonds...</td>\n",
       "      <td>Emerald</td>\n",
       "      <td>400</td>\n",
       "      <td>0.30</td>\n",
       "      <td>Ideal</td>\n",
       "      <td>I</td>\n",
       "      <td>SI1</td>\n",
       "      <td>GIA</td>\n",
       "      <td>natural</td>\n",
       "      <td>'2020-11-29 12-26 PM'</td>\n",
       "    </tr>\n",
       "  </tbody>\n",
       "</table>\n",
       "</div>"
      ],
      "text/plain": [
       "         id                                                url    shape   \n",
       "0  10086429  https://www.brilliantearth.com//loose-diamonds...    Round  \\\n",
       "1  10016334  https://www.brilliantearth.com//loose-diamonds...  Emerald   \n",
       "2   9947216  https://www.brilliantearth.com//loose-diamonds...  Emerald   \n",
       "3  10083437  https://www.brilliantearth.com//loose-diamonds...    Round   \n",
       "4   9946136  https://www.brilliantearth.com//loose-diamonds...  Emerald   \n",
       "\n",
       "   price  carat          cut color clarity report     type   \n",
       "0    400   0.30  'Very Good'     J     SI2    GIA  natural  \\\n",
       "1    400   0.31        Ideal     I     SI1    GIA  natural   \n",
       "2    400   0.30        Ideal     I     VS2    GIA  natural   \n",
       "3    400   0.30        Ideal     I     SI2    GIA  natural   \n",
       "4    400   0.30        Ideal     I     SI1    GIA  natural   \n",
       "\n",
       "            date_fetched  \n",
       "0  '2020-11-29 12-26 PM'  \n",
       "1  '2020-11-29 12-26 PM'  \n",
       "2  '2020-11-29 12-26 PM'  \n",
       "3  '2020-11-29 12-26 PM'  \n",
       "4  '2020-11-29 12-26 PM'  "
      ]
     },
     "execution_count": 16,
     "metadata": {},
     "output_type": "execute_result"
    }
   ],
   "source": [
    "diamonds_df.head()"
   ]
  },
  {
   "attachments": {},
   "cell_type": "markdown",
   "metadata": {},
   "source": [
    "# Model Training "
   ]
  },
  {
   "attachments": {},
   "cell_type": "markdown",
   "metadata": {},
   "source": [
    "## AWS"
   ]
  },
  {
   "attachments": {},
   "cell_type": "markdown",
   "metadata": {},
   "source": [
    "We estimate two models for the diamond prices data - a decision tree regressor (`dt.py`) and a gradient boosted regressor (`gb.py`).\n",
    "\n",
    "The input data is hosted in the default S3 bucket of the `sagemaker` session as an unprocessed csv file. "
   ]
  },
  {
   "cell_type": "code",
   "execution_count": 17,
   "metadata": {},
   "outputs": [],
   "source": [
    "sklearn_dt_estimator = SKLearn(\n",
    "    entry_point=\"aws/train/dt.py\",\n",
    "    framework_version=\"1.2-1\",\n",
    "    instance_type=\"ml.m5.xlarge\",\n",
    "    instance_count=1,\n",
    "    volume_size=1,\n",
    "    role=aws_role,\n",
    "    sagemaker_session=deployment_session\n",
    ")"
   ]
  },
  {
   "cell_type": "code",
   "execution_count": 18,
   "metadata": {},
   "outputs": [
    {
     "name": "stdout",
     "output_type": "stream",
     "text": [
      "Using provided s3_resource\n"
     ]
    },
    {
     "name": "stderr",
     "output_type": "stream",
     "text": [
      "INFO:sagemaker:Creating training-job with name: 2023-06-12-estimate-dt-003\n"
     ]
    }
   ],
   "source": [
    "sklearn_dt_estimator.fit(\n",
    "    inputs={\n",
    "    'train': 's3://sagemaker-ap-south-1-321112151583/prices/'\n",
    "    },\n",
    "    wait=False,\n",
    "    job_name='2023-06-12-estimate-dt-003'\n",
    ")"
   ]
  },
  {
   "cell_type": "code",
   "execution_count": 19,
   "metadata": {},
   "outputs": [
    {
     "name": "stdout",
     "output_type": "stream",
     "text": [
      "2023-06-12 07:56:43 Starting - Starting the training job...\n",
      "2023-06-12 07:56:58 Starting - Preparing the instances for training...\n",
      "2023-06-12 07:57:46 Downloading - Downloading input data...\n",
      "2023-06-12 07:58:06 Training - Downloading the training image...\n",
      "2023-06-12 07:58:36 Training - Training image download completed. Training in progress.2023-06-12 07:58:42,200 sagemaker-containers INFO     Imported framework sagemaker_sklearn_container.training\n",
      "2023-06-12 07:58:42,204 sagemaker-training-toolkit INFO     No GPUs detected (normal if no gpus installed)\n",
      "2023-06-12 07:58:42,212 sagemaker_sklearn_container.training INFO     Invoking user training script.\n",
      "2023-06-12 07:58:42,396 sagemaker-training-toolkit INFO     No GPUs detected (normal if no gpus installed)\n",
      "2023-06-12 07:58:42,408 sagemaker-training-toolkit INFO     No GPUs detected (normal if no gpus installed)\n",
      "2023-06-12 07:58:42,420 sagemaker-training-toolkit INFO     No GPUs detected (normal if no gpus installed)\n",
      "2023-06-12 07:58:42,431 sagemaker-training-toolkit INFO     Invoking user script\n",
      "Training Env:\n",
      "{\n",
      "    \"additional_framework_parameters\": {},\n",
      "    \"channel_input_dirs\": {\n",
      "        \"train\": \"/opt/ml/input/data/train\"\n",
      "    },\n",
      "    \"current_host\": \"algo-1\",\n",
      "    \"framework_module\": \"sagemaker_sklearn_container.training:main\",\n",
      "    \"hosts\": [\n",
      "        \"algo-1\"\n",
      "    ],\n",
      "    \"hyperparameters\": {},\n",
      "    \"input_config_dir\": \"/opt/ml/input/config\",\n",
      "    \"input_data_config\": {\n",
      "        \"train\": {\n",
      "            \"TrainingInputMode\": \"File\",\n",
      "            \"S3DistributionType\": \"FullyReplicated\",\n",
      "            \"RecordWrapperType\": \"None\"\n",
      "        }\n",
      "    },\n",
      "    \"input_dir\": \"/opt/ml/input\",\n",
      "    \"is_master\": true,\n",
      "    \"job_name\": \"2023-06-12-estimate-dt-003\",\n",
      "    \"log_level\": 20,\n",
      "    \"master_hostname\": \"algo-1\",\n",
      "    \"model_dir\": \"/opt/ml/model\",\n",
      "    \"module_dir\": \"s3://sagemaker-deployment-examples/2023-06-12-estimate-dt-003/source/sourcedir.tar.gz\",\n",
      "    \"module_name\": \"dt\",\n",
      "    \"network_interface_name\": \"eth0\",\n",
      "    \"num_cpus\": 4,\n",
      "    \"num_gpus\": 0,\n",
      "    \"output_data_dir\": \"/opt/ml/output/data\",\n",
      "    \"output_dir\": \"/opt/ml/output\",\n",
      "    \"output_intermediate_dir\": \"/opt/ml/output/intermediate\",\n",
      "    \"resource_config\": {\n",
      "        \"current_host\": \"algo-1\",\n",
      "        \"current_instance_type\": \"ml.m5.xlarge\",\n",
      "        \"current_group_name\": \"homogeneousCluster\",\n",
      "        \"hosts\": [\n",
      "            \"algo-1\"\n",
      "        ],\n",
      "        \"instance_groups\": [\n",
      "            {\n",
      "                \"instance_group_name\": \"homogeneousCluster\",\n",
      "                \"instance_type\": \"ml.m5.xlarge\",\n",
      "                \"hosts\": [\n",
      "                    \"algo-1\"\n",
      "                ]\n",
      "            }\n",
      "        ],\n",
      "        \"network_interface_name\": \"eth0\"\n",
      "    },\n",
      "    \"user_entry_point\": \"dt.py\"\n",
      "}\n",
      "Environment variables:\n",
      "SM_HOSTS=[\"algo-1\"]\n",
      "SM_NETWORK_INTERFACE_NAME=eth0\n",
      "SM_HPS={}\n",
      "SM_USER_ENTRY_POINT=dt.py\n",
      "SM_FRAMEWORK_PARAMS={}\n",
      "SM_RESOURCE_CONFIG={\"current_group_name\":\"homogeneousCluster\",\"current_host\":\"algo-1\",\"current_instance_type\":\"ml.m5.xlarge\",\"hosts\":[\"algo-1\"],\"instance_groups\":[{\"hosts\":[\"algo-1\"],\"instance_group_name\":\"homogeneousCluster\",\"instance_type\":\"ml.m5.xlarge\"}],\"network_interface_name\":\"eth0\"}\n",
      "SM_INPUT_DATA_CONFIG={\"train\":{\"RecordWrapperType\":\"None\",\"S3DistributionType\":\"FullyReplicated\",\"TrainingInputMode\":\"File\"}}\n",
      "SM_OUTPUT_DATA_DIR=/opt/ml/output/data\n",
      "SM_CHANNELS=[\"train\"]\n",
      "SM_CURRENT_HOST=algo-1\n",
      "SM_MODULE_NAME=dt\n",
      "SM_LOG_LEVEL=20\n",
      "SM_FRAMEWORK_MODULE=sagemaker_sklearn_container.training:main\n",
      "SM_INPUT_DIR=/opt/ml/input\n",
      "SM_INPUT_CONFIG_DIR=/opt/ml/input/config\n",
      "SM_OUTPUT_DIR=/opt/ml/output\n",
      "SM_NUM_CPUS=4\n",
      "SM_NUM_GPUS=0\n",
      "SM_MODEL_DIR=/opt/ml/model\n",
      "SM_MODULE_DIR=s3://sagemaker-deployment-examples/2023-06-12-estimate-dt-003/source/sourcedir.tar.gz\n",
      "SM_TRAINING_ENV={\"additional_framework_parameters\":{},\"channel_input_dirs\":{\"train\":\"/opt/ml/input/data/train\"},\"current_host\":\"algo-1\",\"framework_module\":\"sagemaker_sklearn_container.training:main\",\"hosts\":[\"algo-1\"],\"hyperparameters\":{},\"input_config_dir\":\"/opt/ml/input/config\",\"input_data_config\":{\"train\":{\"RecordWrapperType\":\"None\",\"S3DistributionType\":\"FullyReplicated\",\"TrainingInputMode\":\"File\"}},\"input_dir\":\"/opt/ml/input\",\"is_master\":true,\"job_name\":\"2023-06-12-estimate-dt-003\",\"log_level\":20,\"master_hostname\":\"algo-1\",\"model_dir\":\"/opt/ml/model\",\"module_dir\":\"s3://sagemaker-deployment-examples/2023-06-12-estimate-dt-003/source/sourcedir.tar.gz\",\"module_name\":\"dt\",\"network_interface_name\":\"eth0\",\"num_cpus\":4,\"num_gpus\":0,\"output_data_dir\":\"/opt/ml/output/data\",\"output_dir\":\"/opt/ml/output\",\"output_intermediate_dir\":\"/opt/ml/output/intermediate\",\"resource_config\":{\"current_group_name\":\"homogeneousCluster\",\"current_host\":\"algo-1\",\"current_instance_type\":\"ml.m5.xlarge\",\"hosts\":[\"algo-1\"],\"instance_groups\":[{\"hosts\":[\"algo-1\"],\"instance_group_name\":\"homogeneousCluster\",\"instance_type\":\"ml.m5.xlarge\"}],\"network_interface_name\":\"eth0\"},\"user_entry_point\":\"dt.py\"}\n",
      "SM_USER_ARGS=[]\n",
      "SM_OUTPUT_INTERMEDIATE_DIR=/opt/ml/output/intermediate\n",
      "SM_CHANNEL_TRAIN=/opt/ml/input/data/train\n",
      "PYTHONPATH=/opt/ml/code:/miniconda3/bin:/miniconda3/lib/python38.zip:/miniconda3/lib/python3.8:/miniconda3/lib/python3.8/lib-dynload:/miniconda3/lib/python3.8/site-packages\n",
      "Invoking script with the following command:\n",
      "/miniconda3/bin/python dt.py\n",
      "Training a Decision Tree\n",
      "Predicting on test data\n",
      "RMSE: 5726.840386237433;\n",
      "R-squared: 0.6688987214620314;\n",
      "Saving model to /opt/ml/model/model.joblib\n",
      "2023-06-12 07:58:48,110 sagemaker-containers INFO     Reporting training SUCCESS\n",
      "\n",
      "2023-06-12 07:59:03 Uploading - Uploading generated training model\n",
      "2023-06-12 07:59:03 Completed - Training job completed\n",
      "Training seconds: 76\n",
      "Billable seconds: 76\n"
     ]
    }
   ],
   "source": [
    "sklearn_dt_estimator.logs()"
   ]
  },
  {
   "cell_type": "code",
   "execution_count": 20,
   "metadata": {},
   "outputs": [],
   "source": [
    "sklearn_gb_estimator = SKLearn(\n",
    "    entry_point=\"aws/train/gb.py\",\n",
    "    framework_version=\"1.2-1\",\n",
    "    role=aws_role,\n",
    "    sagemaker_session=deployment_session,\n",
    "    instance_type=\"ml.m5.xlarge\",\n",
    "    instance_count=1,\n",
    "    volume_size=1\n",
    ")"
   ]
  },
  {
   "cell_type": "code",
   "execution_count": 22,
   "metadata": {},
   "outputs": [
    {
     "name": "stdout",
     "output_type": "stream",
     "text": [
      "Using provided s3_resource\n"
     ]
    },
    {
     "name": "stderr",
     "output_type": "stream",
     "text": [
      "INFO:sagemaker:Creating training-job with name: 2023-06-12-estimate-gb-003\n"
     ]
    }
   ],
   "source": [
    "sklearn_gb_estimator.fit(\n",
    "    inputs={\n",
    "    'train': 's3://sagemaker-ap-south-1-321112151583/prices/'\n",
    "    },\n",
    "    wait=False,\n",
    "    job_name='2023-06-12-estimate-gb-003'\n",
    ")"
   ]
  },
  {
   "cell_type": "code",
   "execution_count": 23,
   "metadata": {},
   "outputs": [
    {
     "name": "stdout",
     "output_type": "stream",
     "text": [
      "2023-06-12 08:00:08 Starting - Starting the training job...\n",
      "2023-06-12 08:00:27 Starting - Preparing the instances for training......\n",
      "2023-06-12 08:01:23 Downloading - Downloading input data..\n",
      "2023-06-12 08:02:36 Training - Training image download completed. Training in progress.\n",
      "2023-06-12 08:02:36 Uploading - Uploading generated training model2023-06-12 08:02:22,619 sagemaker-containers INFO     Imported framework sagemaker_sklearn_container.training\n",
      "2023-06-12 08:02:22,623 sagemaker-training-toolkit INFO     No GPUs detected (normal if no gpus installed)\n",
      "2023-06-12 08:02:22,631 sagemaker_sklearn_container.training INFO     Invoking user training script.\n",
      "2023-06-12 08:02:22,820 sagemaker-training-toolkit INFO     No GPUs detected (normal if no gpus installed)\n",
      "2023-06-12 08:02:22,832 sagemaker-training-toolkit INFO     No GPUs detected (normal if no gpus installed)\n",
      "2023-06-12 08:02:22,844 sagemaker-training-toolkit INFO     No GPUs detected (normal if no gpus installed)\n",
      "2023-06-12 08:02:22,855 sagemaker-training-toolkit INFO     Invoking user script\n",
      "Training Env:\n",
      "{\n",
      "    \"additional_framework_parameters\": {},\n",
      "    \"channel_input_dirs\": {\n",
      "        \"train\": \"/opt/ml/input/data/train\"\n",
      "    },\n",
      "    \"current_host\": \"algo-1\",\n",
      "    \"framework_module\": \"sagemaker_sklearn_container.training:main\",\n",
      "    \"hosts\": [\n",
      "        \"algo-1\"\n",
      "    ],\n",
      "    \"hyperparameters\": {},\n",
      "    \"input_config_dir\": \"/opt/ml/input/config\",\n",
      "    \"input_data_config\": {\n",
      "        \"train\": {\n",
      "            \"TrainingInputMode\": \"File\",\n",
      "            \"S3DistributionType\": \"FullyReplicated\",\n",
      "            \"RecordWrapperType\": \"None\"\n",
      "        }\n",
      "    },\n",
      "    \"input_dir\": \"/opt/ml/input\",\n",
      "    \"is_master\": true,\n",
      "    \"job_name\": \"2023-06-12-estimate-gb-003\",\n",
      "    \"log_level\": 20,\n",
      "    \"master_hostname\": \"algo-1\",\n",
      "    \"model_dir\": \"/opt/ml/model\",\n",
      "    \"module_dir\": \"s3://sagemaker-deployment-examples/2023-06-12-estimate-gb-003/source/sourcedir.tar.gz\",\n",
      "    \"module_name\": \"gb\",\n",
      "    \"network_interface_name\": \"eth0\",\n",
      "    \"num_cpus\": 4,\n",
      "    \"num_gpus\": 0,\n",
      "    \"output_data_dir\": \"/opt/ml/output/data\",\n",
      "    \"output_dir\": \"/opt/ml/output\",\n",
      "    \"output_intermediate_dir\": \"/opt/ml/output/intermediate\",\n",
      "    \"resource_config\": {\n",
      "        \"current_host\": \"algo-1\",\n",
      "        \"current_instance_type\": \"ml.m5.xlarge\",\n",
      "        \"current_group_name\": \"homogeneousCluster\",\n",
      "        \"hosts\": [\n",
      "            \"algo-1\"\n",
      "        ],\n",
      "        \"instance_groups\": [\n",
      "            {\n",
      "                \"instance_group_name\": \"homogeneousCluster\",\n",
      "                \"instance_type\": \"ml.m5.xlarge\",\n",
      "                \"hosts\": [\n",
      "                    \"algo-1\"\n",
      "                ]\n",
      "            }\n",
      "        ],\n",
      "        \"network_interface_name\": \"eth0\"\n",
      "    },\n",
      "    \"user_entry_point\": \"gb.py\"\n",
      "}\n",
      "Environment variables:\n",
      "SM_HOSTS=[\"algo-1\"]\n",
      "SM_NETWORK_INTERFACE_NAME=eth0\n",
      "SM_HPS={}\n",
      "SM_USER_ENTRY_POINT=gb.py\n",
      "SM_FRAMEWORK_PARAMS={}\n",
      "SM_RESOURCE_CONFIG={\"current_group_name\":\"homogeneousCluster\",\"current_host\":\"algo-1\",\"current_instance_type\":\"ml.m5.xlarge\",\"hosts\":[\"algo-1\"],\"instance_groups\":[{\"hosts\":[\"algo-1\"],\"instance_group_name\":\"homogeneousCluster\",\"instance_type\":\"ml.m5.xlarge\"}],\"network_interface_name\":\"eth0\"}\n",
      "SM_INPUT_DATA_CONFIG={\"train\":{\"RecordWrapperType\":\"None\",\"S3DistributionType\":\"FullyReplicated\",\"TrainingInputMode\":\"File\"}}\n",
      "SM_OUTPUT_DATA_DIR=/opt/ml/output/data\n",
      "SM_CHANNELS=[\"train\"]\n",
      "SM_CURRENT_HOST=algo-1\n",
      "SM_MODULE_NAME=gb\n",
      "SM_LOG_LEVEL=20\n",
      "SM_FRAMEWORK_MODULE=sagemaker_sklearn_container.training:main\n",
      "SM_INPUT_DIR=/opt/ml/input\n",
      "SM_INPUT_CONFIG_DIR=/opt/ml/input/config\n",
      "SM_OUTPUT_DIR=/opt/ml/output\n",
      "SM_NUM_CPUS=4\n",
      "SM_NUM_GPUS=0\n",
      "SM_MODEL_DIR=/opt/ml/model\n",
      "SM_MODULE_DIR=s3://sagemaker-deployment-examples/2023-06-12-estimate-gb-003/source/sourcedir.tar.gz\n",
      "SM_TRAINING_ENV={\"additional_framework_parameters\":{},\"channel_input_dirs\":{\"train\":\"/opt/ml/input/data/train\"},\"current_host\":\"algo-1\",\"framework_module\":\"sagemaker_sklearn_container.training:main\",\"hosts\":[\"algo-1\"],\"hyperparameters\":{},\"input_config_dir\":\"/opt/ml/input/config\",\"input_data_config\":{\"train\":{\"RecordWrapperType\":\"None\",\"S3DistributionType\":\"FullyReplicated\",\"TrainingInputMode\":\"File\"}},\"input_dir\":\"/opt/ml/input\",\"is_master\":true,\"job_name\":\"2023-06-12-estimate-gb-003\",\"log_level\":20,\"master_hostname\":\"algo-1\",\"model_dir\":\"/opt/ml/model\",\"module_dir\":\"s3://sagemaker-deployment-examples/2023-06-12-estimate-gb-003/source/sourcedir.tar.gz\",\"module_name\":\"gb\",\"network_interface_name\":\"eth0\",\"num_cpus\":4,\"num_gpus\":0,\"output_data_dir\":\"/opt/ml/output/data\",\"output_dir\":\"/opt/ml/output\",\"output_intermediate_dir\":\"/opt/ml/output/intermediate\",\"resource_config\":{\"current_group_name\":\"homogeneousCluster\",\"current_host\":\"algo-1\",\"current_instance_type\":\"ml.m5.xlarge\",\"hosts\":[\"algo-1\"],\"instance_groups\":[{\"hosts\":[\"algo-1\"],\"instance_group_name\":\"homogeneousCluster\",\"instance_type\":\"ml.m5.xlarge\"}],\"network_interface_name\":\"eth0\"},\"user_entry_point\":\"gb.py\"}\n",
      "SM_USER_ARGS=[]\n",
      "SM_OUTPUT_INTERMEDIATE_DIR=/opt/ml/output/intermediate\n",
      "SM_CHANNEL_TRAIN=/opt/ml/input/data/train\n",
      "PYTHONPATH=/opt/ml/code:/miniconda3/bin:/miniconda3/lib/python38.zip:/miniconda3/lib/python3.8:/miniconda3/lib/python3.8/lib-dynload:/miniconda3/lib/python3.8/site-packages\n",
      "Invoking script with the following command:\n",
      "/miniconda3/bin/python gb.py\n",
      "Training Gradient Boosting Regressor\n",
      "Predicting on test data\n",
      "RMSE: 5441.778446029974;\n",
      "R-squared: 0.7010404631079059;\n",
      "Saving model to /opt/ml/model/model.joblib\n",
      "2023-06-12 08:02:29,730 sagemaker-containers INFO     Reporting training SUCCESS\n",
      "\n",
      "2023-06-12 08:02:42 Completed - Training job completed\n",
      "Training seconds: 80\n",
      "Billable seconds: 80\n"
     ]
    }
   ],
   "source": [
    "sklearn_gb_estimator.logs()"
   ]
  },
  {
   "attachments": {},
   "cell_type": "markdown",
   "metadata": {},
   "source": [
    "There are two key aspects of the training scripts (`dt.py` and `gb.py`) that are new here:\n",
    "\n",
    "**1. The training workflow is encapsulated within a \"main guard\"** "
   ]
  },
  {
   "attachments": {},
   "cell_type": "markdown",
   "metadata": {},
   "source": [
    "```python\n",
    "if __name__ == \"__main__\":\n",
    "    main()\n",
    "```"
   ]
  },
  {
   "attachments": {},
   "cell_type": "markdown",
   "metadata": {},
   "source": [
    "This allows the training modules to be executed only when the training script is called from the command line. This is a good practise to ensure that the training process does not execute when the script is used as a part of the pipeline."
   ]
  },
  {
   "attachments": {},
   "cell_type": "markdown",
   "metadata": {},
   "source": [
    "**2. Model pipelines are estimated rather than the models themselves**"
   ]
  },
  {
   "attachments": {},
   "cell_type": "markdown",
   "metadata": {},
   "source": [
    "```python\n",
    "preprocessor = make_column_transformer(\n",
    "        (StandardScaler(), numeric_features),\n",
    "        (OneHotEncoder(handle_unknown='ignore'), categorical_features)\n",
    ")\n",
    "\n",
    "model_dt = DecisionTreeRegressor()\n",
    "\n",
    "model_pipeline = make_pipeline(preprocessor, model_dt)\n",
    "```"
   ]
  },
  {
   "attachments": {},
   "cell_type": "markdown",
   "metadata": {},
   "source": [
    "By estimating a preprocessing pipeline along with the model, we ensure that the data processing is \"packaged\" along with the model estimation. This is a good practise if the preprocessing involves standard, light-weight steps. Extensive preprocessing steps are best handled through a pipeline job. This way we avoid potentially costly data transfers between two steps - pre-processing and model estimation. Packaging preprocessing wth the model estimation also helps complex pipeline patterns during inference."
   ]
  },
  {
   "attachments": {},
   "cell_type": "markdown",
   "metadata": {},
   "source": [
    "Output from the training script is persisted to the bucket allocated for the training job within the `output` folder."
   ]
  },
  {
   "cell_type": "code",
   "execution_count": 24,
   "metadata": {},
   "outputs": [
    {
     "data": {
      "text/plain": [
       "'s3://sagemaker-deployment-examples/2023-06-12-estimate-dt-003/output/model.tar.gz'"
      ]
     },
     "execution_count": 24,
     "metadata": {},
     "output_type": "execute_result"
    }
   ],
   "source": [
    "sklearn_dt_estimator.model_data"
   ]
  },
  {
   "cell_type": "code",
   "execution_count": 25,
   "metadata": {},
   "outputs": [
    {
     "data": {
      "text/plain": [
       "'s3://sagemaker-deployment-examples/2023-06-12-estimate-gb-003/output/model.tar.gz'"
      ]
     },
     "execution_count": 25,
     "metadata": {},
     "output_type": "execute_result"
    }
   ],
   "source": [
    "sklearn_gb_estimator.model_data"
   ]
  },
  {
   "attachments": {},
   "cell_type": "markdown",
   "metadata": {},
   "source": [
    "Note that in this stage, we could have extracted the best model through hyperparameter tuning. However, for the purpose of model deployment, we are only concerned with obtaining the final model file that represents the best model for the training data."
   ]
  },
  {
   "attachments": {},
   "cell_type": "markdown",
   "metadata": {},
   "source": [
    "## Azure"
   ]
  },
  {
   "cell_type": "code",
   "execution_count": 26,
   "metadata": {},
   "outputs": [],
   "source": [
    "dt_train_job = command(\n",
    "    inputs={\n",
    "        \"data\": Input(type=\"uri_file\", path=\"azureml:diamond-prices-jan:1\")\n",
    "    },\n",
    "    code=\"azure/train/dt.py\",\n",
    "    command=\"python dt.py --data ${{inputs.data}}\",\n",
    "    environment=\"AzureML-sklearn-1.0-ubuntu20.04-py38-cpu@latest\",\n",
    "    display_name=\"2023-06-12-decision-tree-regression-example-003\",\n",
    "    experiment_name=\"2023-06-12-estimate-dt-003\"\n",
    ")"
   ]
  },
  {
   "cell_type": "code",
   "execution_count": 27,
   "metadata": {},
   "outputs": [
    {
     "name": "stderr",
     "output_type": "stream",
     "text": [
      "Class AutoDeleteSettingSchema: This is an experimental class, and may change at any time. Please see https://aka.ms/azuremlexperimental for more information.\n",
      "Class AutoDeleteConditionSchema: This is an experimental class, and may change at any time. Please see https://aka.ms/azuremlexperimental for more information.\n",
      "Class BaseAutoDeleteSettingSchema: This is an experimental class, and may change at any time. Please see https://aka.ms/azuremlexperimental for more information.\n",
      "Class IntellectualPropertySchema: This is an experimental class, and may change at any time. Please see https://aka.ms/azuremlexperimental for more information.\n",
      "Class ProtectionLevelSchema: This is an experimental class, and may change at any time. Please see https://aka.ms/azuremlexperimental for more information.\n",
      "Class BaseIntellectualPropertySchema: This is an experimental class, and may change at any time. Please see https://aka.ms/azuremlexperimental for more information.\n",
      "INFO:azure.identity._internal.interactive:InteractiveBrowserCredential.get_token succeeded\n",
      "INFO:azure.identity._credentials.default:DefaultAzureCredential acquired a token from InteractiveBrowserCredential\n",
      "\u001b[32mUploading dt.py\u001b[32m (< 1 MB): 100%|██████████| 1.75k/1.75k [00:00<00:00, 46.7kB/s]\n",
      "\u001b[39m\n",
      "\n",
      "INFO:azure.identity._internal.interactive:InteractiveBrowserCredential.get_token succeeded\n",
      "INFO:azure.identity._credentials.default:DefaultAzureCredential acquired a token from InteractiveBrowserCredential\n"
     ]
    },
    {
     "data": {
      "text/html": [
       "<table style=\"width:100%\"><tr><th>Experiment</th><th>Name</th><th>Type</th><th>Status</th><th>Details Page</th></tr><tr><td>2023-06-12-estimate-dt-003</td><td>modest_salt_hvgbf8s4sk</td><td>command</td><td>Starting</td><td><a href=\"https://ml.azure.com/runs/modest_salt_hvgbf8s4sk?wsid=/subscriptions/5bcad9c4-40fb-4136-b614-cc90116dd8b3/resourcegroups/tf/workspaces/cloud-teach&amp;tid=7d76d361-8277-4708-a477-64e8366cd1bc\" target=\"_blank\" rel=\"noopener\">Link to Azure Machine Learning studio</a></td></tr></table>"
      ],
      "text/plain": [
       "Command({'parameters': {}, 'init': False, 'name': 'modest_salt_hvgbf8s4sk', 'type': 'command', 'status': 'Starting', 'log_files': None, 'description': None, 'tags': {}, 'properties': {'_azureml.ComputeTargetType': 'amlctrain', 'ContentSnapshotId': '5d8dfe9d-8f5e-4851-838a-716982944946'}, 'print_as_yaml': True, 'id': '/subscriptions/5bcad9c4-40fb-4136-b614-cc90116dd8b3/resourceGroups/tf/providers/Microsoft.MachineLearningServices/workspaces/cloud-teach/jobs/modest_salt_hvgbf8s4sk', 'Resource__source_path': None, 'base_path': '/home/pavankumargurazada/Desktop/GL/DSC/Week-5_ Model Serving/v2', 'creation_context': <azure.ai.ml.entities._system_data.SystemData object at 0x7ff3140d3fd0>, 'serialize': <msrest.serialization.Serializer object at 0x7ff293c82e80>, 'allowed_keys': {}, 'key_restriction': False, 'logger': <Logger attr_dict (INFO)>, 'display_name': '2023-06-12-decision-tree-regression-example-003', 'experiment_name': '2023-06-12-estimate-dt-003', 'compute': None, 'services': {'Tracking': {'endpoint': 'azureml://centralindia.api.azureml.ms/mlflow/v1.0/subscriptions/5bcad9c4-40fb-4136-b614-cc90116dd8b3/resourceGroups/tf/providers/Microsoft.MachineLearningServices/workspaces/cloud-teach?', 'type': 'Tracking'}, 'Studio': {'endpoint': 'https://ml.azure.com/runs/modest_salt_hvgbf8s4sk?wsid=/subscriptions/5bcad9c4-40fb-4136-b614-cc90116dd8b3/resourcegroups/tf/workspaces/cloud-teach&tid=7d76d361-8277-4708-a477-64e8366cd1bc', 'type': 'Studio'}}, 'comment': None, 'job_inputs': {'data': {'type': 'uri_file', 'path': 'diamond-prices-jan:1', 'mode': 'ro_mount'}}, 'job_outputs': {'default': {'type': 'uri_folder', 'path': 'azureml://datastores/workspaceartifactstore/ExperimentRun/dcid.modest_salt_hvgbf8s4sk', 'mode': 'rw_mount'}}, 'inputs': {'data': <azure.ai.ml.entities._job.pipeline._io.base.NodeInput object at 0x7ff293cf4580>}, 'outputs': {'default': <azure.ai.ml.entities._job.pipeline._io.base.NodeOutput object at 0x7ff293c82d30>}, 'component': CommandComponent({'intellectual_property': None, 'auto_increment_version': True, 'source': 'REMOTE.WORKSPACE.JOB', 'is_anonymous': False, 'auto_delete_setting': None, 'name': 'modest_salt_hvgbf8s4sk', 'description': None, 'tags': {}, 'properties': {}, 'print_as_yaml': True, 'id': None, 'Resource__source_path': None, 'base_path': PosixPath('.'), 'creation_context': <azure.ai.ml.entities._system_data.SystemData object at 0x7ff3140d3fd0>, 'serialize': <msrest.serialization.Serializer object at 0x7ff293cf4280>, 'command': 'python dt.py --data ${{inputs.data}}', 'code': '/subscriptions/5bcad9c4-40fb-4136-b614-cc90116dd8b3/resourceGroups/tf/providers/Microsoft.MachineLearningServices/workspaces/cloud-teach/codes/24f0eb09-d13c-4335-9d0e-84a4d90bc206/versions/1', 'environment_variables': {}, 'environment': 'azureml:AzureML-sklearn-1.0-ubuntu20.04-py38-cpu@latest', 'distribution': None, 'resources': None, 'queue_settings': None, 'version': None, 'latest_version': None, 'schema': None, 'type': 'command', 'display_name': '2023-06-12-decision-tree-regression-example-003', 'is_deterministic': True, 'inputs': {'data': {'type': 'uri_file', 'path': '/subscriptions/5bcad9c4-40fb-4136-b614-cc90116dd8b3/resourceGroups/tf/providers/Microsoft.MachineLearningServices/workspaces/cloud-teach/data/diamond-prices-jan/versions/1', 'mode': 'ro_mount'}}, 'outputs': {'default': {'type': 'uri_folder', 'path': 'azureml://datastores/workspaceartifactstore/ExperimentRun/dcid.modest_salt_hvgbf8s4sk', 'mode': 'rw_mount'}}, 'yaml_str': None, 'other_parameter': {'status': 'Starting', 'parameters': {}}, 'additional_includes': [], 'CommandComponent__additional_includes_obj': None}), 'referenced_control_flow_node_instance_id': None, 'kwargs': {'services': {'Tracking': {'endpoint': 'azureml://centralindia.api.azureml.ms/mlflow/v1.0/subscriptions/5bcad9c4-40fb-4136-b614-cc90116dd8b3/resourceGroups/tf/providers/Microsoft.MachineLearningServices/workspaces/cloud-teach?', 'type': 'Tracking'}, 'Studio': {'endpoint': 'https://ml.azure.com/runs/modest_salt_hvgbf8s4sk?wsid=/subscriptions/5bcad9c4-40fb-4136-b614-cc90116dd8b3/resourcegroups/tf/workspaces/cloud-teach&tid=7d76d361-8277-4708-a477-64e8366cd1bc', 'type': 'Studio'}}, 'status': 'Starting', 'creation_context': <azure.ai.ml.entities._system_data.SystemData object at 0x7ff3140d3fd0>}, 'instance_id': '3c42ae5b-2b67-42ba-bd2c-ab2aee4ec328', 'source': 'BUILDER', 'validate_required_input_not_provided': True, 'limits': None, 'identity': None, 'distribution': None, 'environment_variables': {}, 'environment': 'azureml:AzureML-sklearn-1.0-ubuntu20.04-py38-cpu@latest', 'resources': {'instance_count': 1, 'shm_size': '2g'}, 'queue_settings': {'job_tier': 'standard'}, 'swept': False})"
      ]
     },
     "execution_count": 27,
     "metadata": {},
     "output_type": "execute_result"
    }
   ],
   "source": [
    "ml_client.create_or_update(dt_train_job)"
   ]
  },
  {
   "cell_type": "code",
   "execution_count": 28,
   "metadata": {},
   "outputs": [],
   "source": [
    "gb_train_job = command(\n",
    "    inputs={\n",
    "        \"data\": Input(type=\"uri_file\", path=\"azureml:diamond-prices-jan:1\")\n",
    "    },\n",
    "    code=\"azure/train/gb.py\",\n",
    "    command=\"python gb.py --data ${{inputs.data}}\",\n",
    "    environment=\"AzureML-sklearn-1.0-ubuntu20.04-py38-cpu@latest\",\n",
    "    display_name=\"2023-06-12-gradient-boosting-regression-example-003\",\n",
    "    experiment_name=\"2023-06-12-estimate-gb-003\"\n",
    ")"
   ]
  },
  {
   "cell_type": "code",
   "execution_count": 29,
   "metadata": {},
   "outputs": [
    {
     "name": "stderr",
     "output_type": "stream",
     "text": [
      "\u001b[32mUploading gb.py\u001b[32m (< 1 MB): 100%|██████████| 1.79k/1.79k [00:00<00:00, 51.4kB/s]\n",
      "\u001b[39m\n",
      "\n",
      "INFO:azure.identity._internal.interactive:InteractiveBrowserCredential.get_token succeeded\n",
      "INFO:azure.identity._credentials.default:DefaultAzureCredential acquired a token from InteractiveBrowserCredential\n"
     ]
    },
    {
     "data": {
      "text/html": [
       "<table style=\"width:100%\"><tr><th>Experiment</th><th>Name</th><th>Type</th><th>Status</th><th>Details Page</th></tr><tr><td>2023-06-12-estimate-gb-003</td><td>elated_seal_7h7br1q8z1</td><td>command</td><td>Starting</td><td><a href=\"https://ml.azure.com/runs/elated_seal_7h7br1q8z1?wsid=/subscriptions/5bcad9c4-40fb-4136-b614-cc90116dd8b3/resourcegroups/tf/workspaces/cloud-teach&amp;tid=7d76d361-8277-4708-a477-64e8366cd1bc\" target=\"_blank\" rel=\"noopener\">Link to Azure Machine Learning studio</a></td></tr></table>"
      ],
      "text/plain": [
       "Command({'parameters': {}, 'init': False, 'name': 'elated_seal_7h7br1q8z1', 'type': 'command', 'status': 'Starting', 'log_files': None, 'description': None, 'tags': {}, 'properties': {'_azureml.ComputeTargetType': 'amlctrain', 'ContentSnapshotId': 'c116e4f0-4b1d-491f-82e5-3aad84441f00'}, 'print_as_yaml': True, 'id': '/subscriptions/5bcad9c4-40fb-4136-b614-cc90116dd8b3/resourceGroups/tf/providers/Microsoft.MachineLearningServices/workspaces/cloud-teach/jobs/elated_seal_7h7br1q8z1', 'Resource__source_path': None, 'base_path': '/home/pavankumargurazada/Desktop/GL/DSC/Week-5_ Model Serving/v2', 'creation_context': <azure.ai.ml.entities._system_data.SystemData object at 0x7ff293c1cac0>, 'serialize': <msrest.serialization.Serializer object at 0x7ff293c1ce20>, 'allowed_keys': {}, 'key_restriction': False, 'logger': <Logger attr_dict (INFO)>, 'display_name': '2023-06-12-gradient-boosting-regression-example-003', 'experiment_name': '2023-06-12-estimate-gb-003', 'compute': None, 'services': {'Tracking': {'endpoint': 'azureml://centralindia.api.azureml.ms/mlflow/v1.0/subscriptions/5bcad9c4-40fb-4136-b614-cc90116dd8b3/resourceGroups/tf/providers/Microsoft.MachineLearningServices/workspaces/cloud-teach?', 'type': 'Tracking'}, 'Studio': {'endpoint': 'https://ml.azure.com/runs/elated_seal_7h7br1q8z1?wsid=/subscriptions/5bcad9c4-40fb-4136-b614-cc90116dd8b3/resourcegroups/tf/workspaces/cloud-teach&tid=7d76d361-8277-4708-a477-64e8366cd1bc', 'type': 'Studio'}}, 'comment': None, 'job_inputs': {'data': {'type': 'uri_file', 'path': 'diamond-prices-jan:1', 'mode': 'ro_mount'}}, 'job_outputs': {'default': {'type': 'uri_folder', 'path': 'azureml://datastores/workspaceartifactstore/ExperimentRun/dcid.elated_seal_7h7br1q8z1', 'mode': 'rw_mount'}}, 'inputs': {'data': <azure.ai.ml.entities._job.pipeline._io.base.NodeInput object at 0x7ff293c1cd30>}, 'outputs': {'default': <azure.ai.ml.entities._job.pipeline._io.base.NodeOutput object at 0x7ff293c1c850>}, 'component': CommandComponent({'intellectual_property': None, 'auto_increment_version': True, 'source': 'REMOTE.WORKSPACE.JOB', 'is_anonymous': False, 'auto_delete_setting': None, 'name': 'elated_seal_7h7br1q8z1', 'description': None, 'tags': {}, 'properties': {}, 'print_as_yaml': True, 'id': None, 'Resource__source_path': None, 'base_path': PosixPath('.'), 'creation_context': <azure.ai.ml.entities._system_data.SystemData object at 0x7ff293c1cac0>, 'serialize': <msrest.serialization.Serializer object at 0x7ff293c1ca30>, 'command': 'python gb.py --data ${{inputs.data}}', 'code': '/subscriptions/5bcad9c4-40fb-4136-b614-cc90116dd8b3/resourceGroups/tf/providers/Microsoft.MachineLearningServices/workspaces/cloud-teach/codes/e9e2464e-11a3-42e2-a3cd-7b8462c6276e/versions/1', 'environment_variables': {}, 'environment': 'azureml:AzureML-sklearn-1.0-ubuntu20.04-py38-cpu@latest', 'distribution': None, 'resources': None, 'queue_settings': None, 'version': None, 'latest_version': None, 'schema': None, 'type': 'command', 'display_name': '2023-06-12-gradient-boosting-regression-example-003', 'is_deterministic': True, 'inputs': {'data': {'type': 'uri_file', 'path': '/subscriptions/5bcad9c4-40fb-4136-b614-cc90116dd8b3/resourceGroups/tf/providers/Microsoft.MachineLearningServices/workspaces/cloud-teach/data/diamond-prices-jan/versions/1', 'mode': 'ro_mount'}}, 'outputs': {'default': {'type': 'uri_folder', 'path': 'azureml://datastores/workspaceartifactstore/ExperimentRun/dcid.elated_seal_7h7br1q8z1', 'mode': 'rw_mount'}}, 'yaml_str': None, 'other_parameter': {'status': 'Starting', 'parameters': {}}, 'additional_includes': [], 'CommandComponent__additional_includes_obj': None}), 'referenced_control_flow_node_instance_id': None, 'kwargs': {'services': {'Tracking': {'endpoint': 'azureml://centralindia.api.azureml.ms/mlflow/v1.0/subscriptions/5bcad9c4-40fb-4136-b614-cc90116dd8b3/resourceGroups/tf/providers/Microsoft.MachineLearningServices/workspaces/cloud-teach?', 'type': 'Tracking'}, 'Studio': {'endpoint': 'https://ml.azure.com/runs/elated_seal_7h7br1q8z1?wsid=/subscriptions/5bcad9c4-40fb-4136-b614-cc90116dd8b3/resourcegroups/tf/workspaces/cloud-teach&tid=7d76d361-8277-4708-a477-64e8366cd1bc', 'type': 'Studio'}}, 'status': 'Starting', 'creation_context': <azure.ai.ml.entities._system_data.SystemData object at 0x7ff293c1cac0>}, 'instance_id': '7df56e6c-5f43-4be2-88b0-576c27b63dda', 'source': 'BUILDER', 'validate_required_input_not_provided': True, 'limits': None, 'identity': None, 'distribution': None, 'environment_variables': {}, 'environment': 'azureml:AzureML-sklearn-1.0-ubuntu20.04-py38-cpu@latest', 'resources': {'instance_count': 1, 'shm_size': '2g'}, 'queue_settings': {'job_tier': 'standard'}, 'swept': False})"
      ]
     },
     "execution_count": 29,
     "metadata": {},
     "output_type": "execute_result"
    }
   ],
   "source": [
    "ml_client.create_or_update(gb_train_job)"
   ]
  },
  {
   "cell_type": "code",
   "execution_count": 39,
   "metadata": {},
   "outputs": [
    {
     "name": "stderr",
     "output_type": "stream",
     "text": [
      "INFO:azure.identity._internal.interactive:InteractiveBrowserCredential.get_token succeeded\n",
      "INFO:azure.identity._credentials.default:DefaultAzureCredential acquired a token from InteractiveBrowserCredential\n"
     ]
    },
    {
     "data": {
      "text/html": [
       "<table style=\"width:100%\"><tr><th>Experiment</th><th>Name</th><th>Type</th><th>Status</th><th>Details Page</th></tr><tr><td>2023-06-12-estimate-dt-003</td><td>modest_salt_hvgbf8s4sk</td><td>command</td><td>Completed</td><td><a href=\"https://ml.azure.com/runs/modest_salt_hvgbf8s4sk?wsid=/subscriptions/5bcad9c4-40fb-4136-b614-cc90116dd8b3/resourcegroups/tf/workspaces/cloud-teach&amp;tid=7d76d361-8277-4708-a477-64e8366cd1bc\" target=\"_blank\" rel=\"noopener\">Link to Azure Machine Learning studio</a></td></tr></table>"
      ],
      "text/plain": [
       "Command({'parameters': {}, 'init': False, 'name': 'modest_salt_hvgbf8s4sk', 'type': 'command', 'status': 'Completed', 'log_files': None, 'description': None, 'tags': {}, 'properties': {'_azureml.ComputeTargetType': 'amlctrain', 'ContentSnapshotId': '5d8dfe9d-8f5e-4851-838a-716982944946', 'ProcessInfoFile': 'azureml-logs/process_info.json', 'ProcessStatusFile': 'azureml-logs/process_status.json'}, 'print_as_yaml': True, 'id': '/subscriptions/5bcad9c4-40fb-4136-b614-cc90116dd8b3/resourceGroups/tf/providers/Microsoft.MachineLearningServices/workspaces/cloud-teach/jobs/modest_salt_hvgbf8s4sk', 'Resource__source_path': None, 'base_path': '/home/pavankumargurazada/Desktop/GL/DSC/Week-5_ Model Serving/v2', 'creation_context': <azure.ai.ml.entities._system_data.SystemData object at 0x7ff293c12c40>, 'serialize': <msrest.serialization.Serializer object at 0x7ff293d916d0>, 'allowed_keys': {}, 'key_restriction': False, 'logger': <Logger attr_dict (INFO)>, 'display_name': '2023-06-12-decision-tree-regression-example-003', 'experiment_name': '2023-06-12-estimate-dt-003', 'compute': None, 'services': {'Tracking': {'endpoint': 'azureml://centralindia.api.azureml.ms/mlflow/v1.0/subscriptions/5bcad9c4-40fb-4136-b614-cc90116dd8b3/resourceGroups/tf/providers/Microsoft.MachineLearningServices/workspaces/cloud-teach?', 'type': 'Tracking'}, 'Studio': {'endpoint': 'https://ml.azure.com/runs/modest_salt_hvgbf8s4sk?wsid=/subscriptions/5bcad9c4-40fb-4136-b614-cc90116dd8b3/resourcegroups/tf/workspaces/cloud-teach&tid=7d76d361-8277-4708-a477-64e8366cd1bc', 'type': 'Studio'}}, 'comment': None, 'job_inputs': {'data': {'type': 'uri_file', 'path': 'diamond-prices-jan:1', 'mode': 'ro_mount'}}, 'job_outputs': {'default': {'type': 'uri_folder', 'path': 'azureml://datastores/workspaceartifactstore/ExperimentRun/dcid.modest_salt_hvgbf8s4sk', 'mode': 'rw_mount'}}, 'inputs': {'data': <azure.ai.ml.entities._job.pipeline._io.base.NodeInput object at 0x7ff293d914c0>}, 'outputs': {'default': <azure.ai.ml.entities._job.pipeline._io.base.NodeOutput object at 0x7ff293cf45e0>}, 'component': CommandComponent({'intellectual_property': None, 'auto_increment_version': True, 'source': 'REMOTE.WORKSPACE.JOB', 'is_anonymous': False, 'auto_delete_setting': None, 'name': 'modest_salt_hvgbf8s4sk', 'description': None, 'tags': {}, 'properties': {}, 'print_as_yaml': True, 'id': None, 'Resource__source_path': None, 'base_path': PosixPath('.'), 'creation_context': <azure.ai.ml.entities._system_data.SystemData object at 0x7ff293c12c40>, 'serialize': <msrest.serialization.Serializer object at 0x7ff293d91b50>, 'command': 'python dt.py --data ${{inputs.data}}', 'code': '/subscriptions/5bcad9c4-40fb-4136-b614-cc90116dd8b3/resourceGroups/tf/providers/Microsoft.MachineLearningServices/workspaces/cloud-teach/codes/24f0eb09-d13c-4335-9d0e-84a4d90bc206/versions/1', 'environment_variables': {}, 'environment': 'azureml:AzureML-sklearn-1.0-ubuntu20.04-py38-cpu@latest', 'distribution': None, 'resources': None, 'queue_settings': None, 'version': None, 'latest_version': None, 'schema': None, 'type': 'command', 'display_name': '2023-06-12-decision-tree-regression-example-003', 'is_deterministic': True, 'inputs': {'data': {'type': 'uri_file', 'path': '/subscriptions/5bcad9c4-40fb-4136-b614-cc90116dd8b3/resourceGroups/tf/providers/Microsoft.MachineLearningServices/workspaces/cloud-teach/data/diamond-prices-jan/versions/1', 'mode': 'ro_mount'}}, 'outputs': {'default': {'type': 'uri_folder', 'path': 'azureml://datastores/workspaceartifactstore/ExperimentRun/dcid.modest_salt_hvgbf8s4sk', 'mode': 'rw_mount'}}, 'yaml_str': None, 'other_parameter': {'status': 'Completed', 'parameters': {}}, 'additional_includes': [], 'CommandComponent__additional_includes_obj': None}), 'referenced_control_flow_node_instance_id': None, 'kwargs': {'services': {'Tracking': {'endpoint': 'azureml://centralindia.api.azureml.ms/mlflow/v1.0/subscriptions/5bcad9c4-40fb-4136-b614-cc90116dd8b3/resourceGroups/tf/providers/Microsoft.MachineLearningServices/workspaces/cloud-teach?', 'type': 'Tracking'}, 'Studio': {'endpoint': 'https://ml.azure.com/runs/modest_salt_hvgbf8s4sk?wsid=/subscriptions/5bcad9c4-40fb-4136-b614-cc90116dd8b3/resourcegroups/tf/workspaces/cloud-teach&tid=7d76d361-8277-4708-a477-64e8366cd1bc', 'type': 'Studio'}}, 'status': 'Completed', 'creation_context': <azure.ai.ml.entities._system_data.SystemData object at 0x7ff293c12c40>}, 'instance_id': '7a556c92-a8dd-4c48-83c4-d72e81be9705', 'source': 'BUILDER', 'validate_required_input_not_provided': True, 'limits': None, 'identity': None, 'distribution': None, 'environment_variables': {}, 'environment': 'azureml:AzureML-sklearn-1.0-ubuntu20.04-py38-cpu@latest', 'resources': {'instance_count': 1, 'shm_size': '2g'}, 'queue_settings': {'job_tier': 'standard'}, 'swept': False})"
      ]
     },
     "execution_count": 39,
     "metadata": {},
     "output_type": "execute_result"
    }
   ],
   "source": [
    "ml_client.jobs.get(\"modest_salt_hvgbf8s4sk\")"
   ]
  },
  {
   "cell_type": "code",
   "execution_count": 37,
   "metadata": {},
   "outputs": [
    {
     "name": "stderr",
     "output_type": "stream",
     "text": [
      "INFO:azure.identity._internal.interactive:InteractiveBrowserCredential.get_token succeeded\n",
      "INFO:azure.identity._credentials.default:DefaultAzureCredential acquired a token from InteractiveBrowserCredential\n"
     ]
    },
    {
     "data": {
      "text/html": [
       "<table style=\"width:100%\"><tr><th>Experiment</th><th>Name</th><th>Type</th><th>Status</th><th>Details Page</th></tr><tr><td>2023-06-12-estimate-gb-003</td><td>elated_seal_7h7br1q8z1</td><td>command</td><td>Completed</td><td><a href=\"https://ml.azure.com/runs/elated_seal_7h7br1q8z1?wsid=/subscriptions/5bcad9c4-40fb-4136-b614-cc90116dd8b3/resourcegroups/tf/workspaces/cloud-teach&amp;tid=7d76d361-8277-4708-a477-64e8366cd1bc\" target=\"_blank\" rel=\"noopener\">Link to Azure Machine Learning studio</a></td></tr></table>"
      ],
      "text/plain": [
       "Command({'parameters': {}, 'init': False, 'name': 'elated_seal_7h7br1q8z1', 'type': 'command', 'status': 'Completed', 'log_files': None, 'description': None, 'tags': {}, 'properties': {'_azureml.ComputeTargetType': 'amlctrain', 'ContentSnapshotId': 'c116e4f0-4b1d-491f-82e5-3aad84441f00', 'ProcessInfoFile': 'azureml-logs/process_info.json', 'ProcessStatusFile': 'azureml-logs/process_status.json'}, 'print_as_yaml': True, 'id': '/subscriptions/5bcad9c4-40fb-4136-b614-cc90116dd8b3/resourceGroups/tf/providers/Microsoft.MachineLearningServices/workspaces/cloud-teach/jobs/elated_seal_7h7br1q8z1', 'Resource__source_path': None, 'base_path': '/home/pavankumargurazada/Desktop/GL/DSC/Week-5_ Model Serving/v2', 'creation_context': <azure.ai.ml.entities._system_data.SystemData object at 0x7ff293e1c280>, 'serialize': <msrest.serialization.Serializer object at 0x7ff293c12be0>, 'allowed_keys': {}, 'key_restriction': False, 'logger': <Logger attr_dict (INFO)>, 'display_name': '2023-06-12-gradient-boosting-regression-example-003', 'experiment_name': '2023-06-12-estimate-gb-003', 'compute': None, 'services': {'Tracking': {'endpoint': 'azureml://centralindia.api.azureml.ms/mlflow/v1.0/subscriptions/5bcad9c4-40fb-4136-b614-cc90116dd8b3/resourceGroups/tf/providers/Microsoft.MachineLearningServices/workspaces/cloud-teach?', 'type': 'Tracking'}, 'Studio': {'endpoint': 'https://ml.azure.com/runs/elated_seal_7h7br1q8z1?wsid=/subscriptions/5bcad9c4-40fb-4136-b614-cc90116dd8b3/resourcegroups/tf/workspaces/cloud-teach&tid=7d76d361-8277-4708-a477-64e8366cd1bc', 'type': 'Studio'}}, 'comment': None, 'job_inputs': {'data': {'type': 'uri_file', 'path': 'diamond-prices-jan:1', 'mode': 'ro_mount'}}, 'job_outputs': {'default': {'type': 'uri_folder', 'path': 'azureml://datastores/workspaceartifactstore/ExperimentRun/dcid.elated_seal_7h7br1q8z1', 'mode': 'rw_mount'}}, 'inputs': {'data': <azure.ai.ml.entities._job.pipeline._io.base.NodeInput object at 0x7ff293c12820>}, 'outputs': {'default': <azure.ai.ml.entities._job.pipeline._io.base.NodeOutput object at 0x7ff293d91670>}, 'component': CommandComponent({'intellectual_property': None, 'auto_increment_version': True, 'source': 'REMOTE.WORKSPACE.JOB', 'is_anonymous': False, 'auto_delete_setting': None, 'name': 'elated_seal_7h7br1q8z1', 'description': None, 'tags': {}, 'properties': {}, 'print_as_yaml': True, 'id': None, 'Resource__source_path': None, 'base_path': PosixPath('.'), 'creation_context': <azure.ai.ml.entities._system_data.SystemData object at 0x7ff293e1c280>, 'serialize': <msrest.serialization.Serializer object at 0x7ff293cf4f70>, 'command': 'python gb.py --data ${{inputs.data}}', 'code': '/subscriptions/5bcad9c4-40fb-4136-b614-cc90116dd8b3/resourceGroups/tf/providers/Microsoft.MachineLearningServices/workspaces/cloud-teach/codes/e9e2464e-11a3-42e2-a3cd-7b8462c6276e/versions/1', 'environment_variables': {}, 'environment': 'azureml:AzureML-sklearn-1.0-ubuntu20.04-py38-cpu@latest', 'distribution': None, 'resources': None, 'queue_settings': None, 'version': None, 'latest_version': None, 'schema': None, 'type': 'command', 'display_name': '2023-06-12-gradient-boosting-regression-example-003', 'is_deterministic': True, 'inputs': {'data': {'type': 'uri_file', 'path': '/subscriptions/5bcad9c4-40fb-4136-b614-cc90116dd8b3/resourceGroups/tf/providers/Microsoft.MachineLearningServices/workspaces/cloud-teach/data/diamond-prices-jan/versions/1', 'mode': 'ro_mount'}}, 'outputs': {'default': {'type': 'uri_folder', 'path': 'azureml://datastores/workspaceartifactstore/ExperimentRun/dcid.elated_seal_7h7br1q8z1', 'mode': 'rw_mount'}}, 'yaml_str': None, 'other_parameter': {'status': 'Completed', 'parameters': {}}, 'additional_includes': [], 'CommandComponent__additional_includes_obj': None}), 'referenced_control_flow_node_instance_id': None, 'kwargs': {'services': {'Tracking': {'endpoint': 'azureml://centralindia.api.azureml.ms/mlflow/v1.0/subscriptions/5bcad9c4-40fb-4136-b614-cc90116dd8b3/resourceGroups/tf/providers/Microsoft.MachineLearningServices/workspaces/cloud-teach?', 'type': 'Tracking'}, 'Studio': {'endpoint': 'https://ml.azure.com/runs/elated_seal_7h7br1q8z1?wsid=/subscriptions/5bcad9c4-40fb-4136-b614-cc90116dd8b3/resourcegroups/tf/workspaces/cloud-teach&tid=7d76d361-8277-4708-a477-64e8366cd1bc', 'type': 'Studio'}}, 'status': 'Completed', 'creation_context': <azure.ai.ml.entities._system_data.SystemData object at 0x7ff293e1c280>}, 'instance_id': 'aaddaf84-72cd-488f-8181-d934cfe51227', 'source': 'BUILDER', 'validate_required_input_not_provided': True, 'limits': None, 'identity': None, 'distribution': None, 'environment_variables': {}, 'environment': 'azureml:AzureML-sklearn-1.0-ubuntu20.04-py38-cpu@latest', 'resources': {'instance_count': 1, 'shm_size': '2g'}, 'queue_settings': {'job_tier': 'standard'}, 'swept': False})"
      ]
     },
     "execution_count": 37,
     "metadata": {},
     "output_type": "execute_result"
    }
   ],
   "source": [
    "ml_client.jobs.get(\"elated_seal_7h7br1q8z1\")"
   ]
  },
  {
   "attachments": {},
   "cell_type": "markdown",
   "metadata": {},
   "source": [
    "There are three key aspects of the training scripts (`dt.py` and `gb.py`) that are new here:"
   ]
  },
  {
   "attachments": {},
   "cell_type": "markdown",
   "metadata": {},
   "source": [
    "**1. The training workflow is encapsulated within a \"main guard\"** "
   ]
  },
  {
   "attachments": {},
   "cell_type": "markdown",
   "metadata": {},
   "source": [
    "```python\n",
    "if __name__ == \"__main__\":\n",
    "    main()\n",
    "```"
   ]
  },
  {
   "attachments": {},
   "cell_type": "markdown",
   "metadata": {},
   "source": [
    "This allows the training modules to be executed only when the training script is called from the command line. This is a good practise to ensure that the training process does not execute when the script is used as a part of a larger pipeline."
   ]
  },
  {
   "attachments": {},
   "cell_type": "markdown",
   "metadata": {},
   "source": [
    "**2. Model pipelines are estimated rather than the models themselves**"
   ]
  },
  {
   "attachments": {},
   "cell_type": "markdown",
   "metadata": {},
   "source": [
    "```python\n",
    "preprocessor = make_column_transformer(\n",
    "        (StandardScaler(), numeric_features),\n",
    "        (OneHotEncoder(handle_unknown='ignore'), categorical_features)\n",
    ")\n",
    "\n",
    "model_dt = DecisionTreeRegressor()\n",
    "\n",
    "model_pipeline = make_pipeline(preprocessor, model_dt)\n",
    "```"
   ]
  },
  {
   "attachments": {},
   "cell_type": "markdown",
   "metadata": {},
   "source": [
    "By estimating a preprocessing pipeline along with the model, we ensure that the data processing is \"packaged\" along with the model estimation. This is a good practise if the preprocessing involves standard, light-weight steps. Extensive preprocessing steps are best handled through a pipeline job. This way we avoid potentially costly data transfers between two steps - pre-processing and model estimation. Packaging preprocessing wth the model estimation also helps complex pipeline patterns during inference."
   ]
  },
  {
   "attachments": {},
   "cell_type": "markdown",
   "metadata": {},
   "source": [
    "**3. Given the deep integration of `mlflow` within Azure ML, we can log and register models during the estimation process itself**"
   ]
  },
  {
   "attachments": {},
   "cell_type": "markdown",
   "metadata": {},
   "source": [
    "```python\n",
    "mlflow.sklearn.log_model(\n",
    "        sk_model=model_pipeline,\n",
    "        registered_model_name=\"gbr-diamond-price-predictor\",\n",
    "        artifact_path=\"gbr-diamond-price-predictor\"\n",
    "    )\n",
    "```"
   ]
  },
  {
   "attachments": {},
   "cell_type": "markdown",
   "metadata": {},
   "source": [
    "The advantage here is that if a model with the registered name exists within the Azure ML workspace, it automatically gets updated with a new version."
   ]
  },
  {
   "attachments": {},
   "cell_type": "markdown",
   "metadata": {},
   "source": [
    "# Creating an Endpoint"
   ]
  },
  {
   "attachments": {},
   "cell_type": "markdown",
   "metadata": {},
   "source": [
    "Since the gradient boosted model has a better R-squared, let us deploy the gradient boosted model as the first version of the diamond price predictor."
   ]
  },
  {
   "attachments": {},
   "cell_type": "markdown",
   "metadata": {},
   "source": [
    "## AWS"
   ]
  },
  {
   "attachments": {},
   "cell_type": "markdown",
   "metadata": {},
   "source": [
    "### Create a `Model` object"
   ]
  },
  {
   "cell_type": "code",
   "execution_count": 40,
   "metadata": {},
   "outputs": [
    {
     "data": {
      "text/plain": [
       "('s3://sagemaker-deployment-examples/2023-06-12-estimate-dt-003/output/model.tar.gz',\n",
       " 's3://sagemaker-deployment-examples/2023-06-12-estimate-gb-003/output/model.tar.gz')"
      ]
     },
     "execution_count": 40,
     "metadata": {},
     "output_type": "execute_result"
    }
   ],
   "source": [
    "sklearn_dt_estimator.model_data, sklearn_gb_estimator.model_data"
   ]
  },
  {
   "cell_type": "code",
   "execution_count": 41,
   "metadata": {},
   "outputs": [],
   "source": [
    "model_gb = SKLearnModel(\n",
    "    model_data=sklearn_gb_estimator.model_data,\n",
    "    entry_point=\"aws/infer/inference.py\",\n",
    "    framework_version=\"1.2-1\",\n",
    "    role=aws_role,\n",
    "    sagemaker_session=deployment_session\n",
    ")"
   ]
  },
  {
   "cell_type": "code",
   "execution_count": 42,
   "metadata": {},
   "outputs": [],
   "source": [
    "model_dt = SKLearnModel(\n",
    "    model_data=sklearn_dt_estimator.model_data,\n",
    "    entry_point=\"aws/infer/inference.py\",\n",
    "    framework_version=\"1.2-1\",\n",
    "    role=aws_role,\n",
    "    sagemaker_session=deployment_session\n",
    ")"
   ]
  },
  {
   "attachments": {},
   "cell_type": "markdown",
   "metadata": {},
   "source": [
    "### Prepare an inference script"
   ]
  },
  {
   "attachments": {},
   "cell_type": "markdown",
   "metadata": {},
   "source": [
    "The inference script (`inference.py`) guides the `sagemaker` model server on input handling and generating model predictions. SageMaker defines clear guidelines on the functions within this script that will be invoked when a prediction request is received (the file `inference.py` presents detailed comments that delineate what each function in the script accomplishes)."
   ]
  },
  {
   "attachments": {},
   "cell_type": "markdown",
   "metadata": {},
   "source": [
    "![aws-inference](assets/aws-inference.drawio.png)"
   ]
  },
  {
   "attachments": {},
   "cell_type": "markdown",
   "metadata": {},
   "source": [
    "### Infrastructure and Execution"
   ]
  },
  {
   "attachments": {},
   "cell_type": "markdown",
   "metadata": {},
   "source": [
    "Once the server logic is implemented in the inference script, we define the infrastructure we need to host and serve the model. SageMaker handles the resources needed to create the model server and generates an endpoint with the name specified. "
   ]
  },
  {
   "cell_type": "code",
   "execution_count": 43,
   "metadata": {},
   "outputs": [
    {
     "name": "stderr",
     "output_type": "stream",
     "text": [
      "INFO:sagemaker:Creating model with name: sagemaker-scikit-learn-2023-06-12-08-08-48-902\n",
      "INFO:sagemaker:Creating endpoint-config with name diamond-price-gb\n",
      "INFO:sagemaker:Creating endpoint with name diamond-price-gb\n"
     ]
    }
   ],
   "source": [
    "predictor_gb = model_gb.deploy(\n",
    "    endpoint_name='diamond-price-gb',\n",
    "    instance_type=\"ml.m5.xlarge\", \n",
    "    initial_instance_count=1,\n",
    "    wait=False\n",
    ")"
   ]
  },
  {
   "attachments": {},
   "cell_type": "markdown",
   "metadata": {},
   "source": [
    "### Testing"
   ]
  },
  {
   "attachments": {},
   "cell_type": "markdown",
   "metadata": {},
   "source": [
    "In order to test the endpoints created in the previous step, we collect test data as traffic and present it to the end points.  This helps iron out potential errors before the endpoint is rolled out to customers. Usually, data that the model has never seen before is used to test deployments.\n",
    "\n",
    "The input type for a prediction request to our model as defined in `inference.py` is `csv`."
   ]
  },
  {
   "cell_type": "code",
   "execution_count": 47,
   "metadata": {},
   "outputs": [],
   "source": [
    "sample_df = diamonds_df.sample(2)"
   ]
  },
  {
   "cell_type": "code",
   "execution_count": 48,
   "metadata": {},
   "outputs": [
    {
     "name": "stdout",
     "output_type": "stream",
     "text": [
      "<class 'pandas.core.frame.DataFrame'>\n",
      "Index: 2 entries, 15586 to 1706\n",
      "Data columns (total 11 columns):\n",
      " #   Column        Non-Null Count  Dtype  \n",
      "---  ------        --------------  -----  \n",
      " 0   id            2 non-null      int64  \n",
      " 1   url           2 non-null      object \n",
      " 2   shape         2 non-null      object \n",
      " 3   price         2 non-null      int64  \n",
      " 4   carat         2 non-null      float64\n",
      " 5   cut           2 non-null      object \n",
      " 6   color         2 non-null      object \n",
      " 7   clarity       2 non-null      object \n",
      " 8   report        2 non-null      object \n",
      " 9   type          2 non-null      object \n",
      " 10  date_fetched  2 non-null      object \n",
      "dtypes: float64(1), int64(2), object(8)\n",
      "memory usage: 192.0+ bytes\n"
     ]
    }
   ],
   "source": [
    "sample_df.info()"
   ]
  },
  {
   "cell_type": "code",
   "execution_count": 49,
   "metadata": {},
   "outputs": [],
   "source": [
    "numeric_features = ['carat']\n",
    "categorical_features = ['shape', 'cut', 'color', 'clarity', 'report', 'type']"
   ]
  },
  {
   "cell_type": "code",
   "execution_count": 50,
   "metadata": {},
   "outputs": [],
   "source": [
    "features = numeric_features + categorical_features"
   ]
  },
  {
   "cell_type": "code",
   "execution_count": 51,
   "metadata": {},
   "outputs": [],
   "source": [
    "sample_Xtest = sample_df[features]\n",
    "sample_ytest = sample_df['price']"
   ]
  },
  {
   "cell_type": "code",
   "execution_count": 52,
   "metadata": {},
   "outputs": [
    {
     "data": {
      "text/html": [
       "<div>\n",
       "<style scoped>\n",
       "    .dataframe tbody tr th:only-of-type {\n",
       "        vertical-align: middle;\n",
       "    }\n",
       "\n",
       "    .dataframe tbody tr th {\n",
       "        vertical-align: top;\n",
       "    }\n",
       "\n",
       "    .dataframe thead th {\n",
       "        text-align: right;\n",
       "    }\n",
       "</style>\n",
       "<table border=\"1\" class=\"dataframe\">\n",
       "  <thead>\n",
       "    <tr style=\"text-align: right;\">\n",
       "      <th></th>\n",
       "      <th>carat</th>\n",
       "      <th>shape</th>\n",
       "      <th>cut</th>\n",
       "      <th>color</th>\n",
       "      <th>clarity</th>\n",
       "      <th>report</th>\n",
       "      <th>type</th>\n",
       "    </tr>\n",
       "  </thead>\n",
       "  <tbody>\n",
       "    <tr>\n",
       "      <th>15586</th>\n",
       "      <td>0.5</td>\n",
       "      <td>Pear</td>\n",
       "      <td>Ideal</td>\n",
       "      <td>J</td>\n",
       "      <td>VS2</td>\n",
       "      <td>GIA</td>\n",
       "      <td>natural</td>\n",
       "    </tr>\n",
       "    <tr>\n",
       "      <th>1706</th>\n",
       "      <td>0.3</td>\n",
       "      <td>Round</td>\n",
       "      <td>'Very Good'</td>\n",
       "      <td>F</td>\n",
       "      <td>SI1</td>\n",
       "      <td>GIA</td>\n",
       "      <td>natural</td>\n",
       "    </tr>\n",
       "  </tbody>\n",
       "</table>\n",
       "</div>"
      ],
      "text/plain": [
       "       carat  shape          cut color clarity report     type\n",
       "15586    0.5   Pear        Ideal     J     VS2    GIA  natural\n",
       "1706     0.3  Round  'Very Good'     F     SI1    GIA  natural"
      ]
     },
     "execution_count": 52,
     "metadata": {},
     "output_type": "execute_result"
    }
   ],
   "source": [
    "sample_Xtest"
   ]
  },
  {
   "attachments": {},
   "cell_type": "markdown",
   "metadata": {},
   "source": [
    "Note that at this point the endpoints are in service but are not publicly accessible. However, these endpoint can be invoked within the domain using the `sagemaker` runtime. As the code below indicates, we create a temporary `csv` file from the sample data frame created in the previous step to be presented to the corresponding endpoint."
   ]
  },
  {
   "cell_type": "code",
   "execution_count": 53,
   "metadata": {},
   "outputs": [
    {
     "name": "stderr",
     "output_type": "stream",
     "text": [
      "INFO:botocore.credentials:Found credentials in shared credentials file: ~/.aws/credentials\n"
     ]
    }
   ],
   "source": [
    "runtime = boto3.client(\"sagemaker-runtime\")"
   ]
  },
  {
   "attachments": {},
   "cell_type": "markdown",
   "metadata": {},
   "source": [
    "Let us look at the response from the Gradient Boosted Regressor."
   ]
  },
  {
   "cell_type": "code",
   "execution_count": 54,
   "metadata": {},
   "outputs": [],
   "source": [
    "response = runtime.invoke_endpoint(\n",
    "    EndpointName=predictor_gb.endpoint_name,\n",
    "    Body=sample_Xtest.to_csv(header=True, index=False).encode(\"utf-8\"),\n",
    "    ContentType=\"text/csv\"\n",
    ")"
   ]
  },
  {
   "attachments": {},
   "cell_type": "markdown",
   "metadata": {},
   "source": [
    "To confirm that the endpoint is REST-ful, we can check the status code of its response."
   ]
  },
  {
   "cell_type": "code",
   "execution_count": 55,
   "metadata": {},
   "outputs": [
    {
     "data": {
      "text/plain": [
       "200"
      ]
     },
     "execution_count": 55,
     "metadata": {},
     "output_type": "execute_result"
    }
   ],
   "source": [
    "response['ResponseMetadata']['HTTPStatusCode']"
   ]
  },
  {
   "cell_type": "code",
   "execution_count": 56,
   "metadata": {},
   "outputs": [
    {
     "name": "stdout",
     "output_type": "stream",
     "text": [
      "b'[719.0960325112374, 798.6152914735877]'\n"
     ]
    }
   ],
   "source": [
    "print(response[\"Body\"].read())"
   ]
  },
  {
   "attachments": {},
   "cell_type": "markdown",
   "metadata": {},
   "source": [
    "We can compare this response with the ground truth."
   ]
  },
  {
   "cell_type": "code",
   "execution_count": 57,
   "metadata": {},
   "outputs": [
    {
     "data": {
      "text/plain": [
       "15586    880\n",
       "1706     550\n",
       "Name: price, dtype: int64"
      ]
     },
     "execution_count": 57,
     "metadata": {},
     "output_type": "execute_result"
    }
   ],
   "source": [
    "sample_ytest"
   ]
  },
  {
   "attachments": {},
   "cell_type": "markdown",
   "metadata": {},
   "source": [
    "### Cleanup"
   ]
  },
  {
   "attachments": {},
   "cell_type": "markdown",
   "metadata": {},
   "source": [
    "At this point we have a model that can receive external traffic. However, there are further steps to go before a full rollout happens. To avoid costs incurred on idle endpoints during the testing phase, it is a good practise to delete end points. Production end points should ideally be generated and maintained by a separate team (even if they are using the same code)."
   ]
  },
  {
   "cell_type": "code",
   "execution_count": 58,
   "metadata": {},
   "outputs": [
    {
     "name": "stderr",
     "output_type": "stream",
     "text": [
      "INFO:sagemaker:Deleting endpoint configuration with name: diamond-price-gb\n",
      "INFO:sagemaker:Deleting endpoint with name: diamond-price-gb\n"
     ]
    }
   ],
   "source": [
    "predictor_gb.delete_endpoint(delete_endpoint_config=True)"
   ]
  },
  {
   "attachments": {},
   "cell_type": "markdown",
   "metadata": {},
   "source": [
    "## Azure"
   ]
  },
  {
   "attachments": {},
   "cell_type": "markdown",
   "metadata": {},
   "source": [
    "### Create endpoint"
   ]
  },
  {
   "cell_type": "code",
   "execution_count": 59,
   "metadata": {},
   "outputs": [],
   "source": [
    "online_endpoint_name = \"diamond-price-predictor-001\""
   ]
  },
  {
   "cell_type": "code",
   "execution_count": 60,
   "metadata": {},
   "outputs": [],
   "source": [
    "endpoint = ManagedOnlineEndpoint(\n",
    "    name=online_endpoint_name,\n",
    "    description=\"Model to predict diamond prices\",\n",
    "    auth_mode=\"aml_token\"\n",
    ")"
   ]
  },
  {
   "attachments": {},
   "cell_type": "markdown",
   "metadata": {},
   "source": [
    "By creating a `ManagedOnlineEndpoint` we let Azure handle all the resource creation and management."
   ]
  },
  {
   "cell_type": "code",
   "execution_count": 61,
   "metadata": {},
   "outputs": [
    {
     "name": "stderr",
     "output_type": "stream",
     "text": [
      "INFO:azure.identity._internal.interactive:InteractiveBrowserCredential.get_token succeeded\n",
      "INFO:azure.identity._credentials.default:DefaultAzureCredential acquired a token from InteractiveBrowserCredential\n"
     ]
    },
    {
     "data": {
      "text/plain": [
       "ManagedOnlineEndpoint({'public_network_access': 'Enabled', 'provisioning_state': 'Succeeded', 'scoring_uri': 'https://diamond-price-predictor-001.centralindia.inference.ml.azure.com/score', 'openapi_uri': 'https://diamond-price-predictor-001.centralindia.inference.ml.azure.com/swagger.json', 'name': 'diamond-price-predictor-001', 'description': 'Model to predict diamond prices', 'tags': {}, 'properties': {'azureml.onlineendpointid': '/subscriptions/5bcad9c4-40fb-4136-b614-cc90116dd8b3/resourcegroups/tf/providers/microsoft.machinelearningservices/workspaces/cloud-teach/onlineendpoints/diamond-price-predictor-001', 'AzureAsyncOperationUri': 'https://management.azure.com/subscriptions/5bcad9c4-40fb-4136-b614-cc90116dd8b3/providers/Microsoft.MachineLearningServices/locations/centralindia/mfeOperationsStatus/oe:3150d3d4-458f-4007-bee4-187ff3e17685:7b9b00a2-38d4-48bf-96c5-7a06397d3a20?api-version=2022-02-01-preview'}, 'print_as_yaml': True, 'id': '/subscriptions/5bcad9c4-40fb-4136-b614-cc90116dd8b3/resourceGroups/tf/providers/Microsoft.MachineLearningServices/workspaces/cloud-teach/onlineEndpoints/diamond-price-predictor-001', 'Resource__source_path': None, 'base_path': '/home/pavankumargurazada/Desktop/GL/DSC/Week-5_ Model Serving/v2', 'creation_context': None, 'serialize': <msrest.serialization.Serializer object at 0x7ff29373a190>, 'auth_mode': 'aml_token', 'location': 'centralindia', 'identity': <azure.ai.ml.entities._credentials.IdentityConfiguration object at 0x7ff293748250>, 'traffic': {}, 'mirror_traffic': {}, 'kind': 'Managed'})"
      ]
     },
     "execution_count": 61,
     "metadata": {},
     "output_type": "execute_result"
    }
   ],
   "source": [
    "ml_client.online_endpoints.begin_create_or_update(endpoint).result()"
   ]
  },
  {
   "attachments": {},
   "cell_type": "markdown",
   "metadata": {},
   "source": [
    "### Collect registered model"
   ]
  },
  {
   "cell_type": "code",
   "execution_count": 62,
   "metadata": {},
   "outputs": [],
   "source": [
    "registered_model_gb = ml_client.models.get(\n",
    "    name=\"gbr-diamond-price-predictor-june\", \n",
    "    version=1\n",
    ")"
   ]
  },
  {
   "cell_type": "code",
   "execution_count": 63,
   "metadata": {},
   "outputs": [
    {
     "data": {
      "text/plain": [
       "'1'"
      ]
     },
     "execution_count": 63,
     "metadata": {},
     "output_type": "execute_result"
    }
   ],
   "source": [
    "registered_model_gb.version"
   ]
  },
  {
   "attachments": {},
   "cell_type": "markdown",
   "metadata": {},
   "source": [
    "### Prepare a scoring script"
   ]
  },
  {
   "attachments": {},
   "cell_type": "markdown",
   "metadata": {},
   "source": [
    "Scoring scrips guide the Azure ML model server on input handling and generating model predictions. Azure ML defines clear guidelines on the functions within this script that will be invoked when a prediction request is received (the file `score.py` presents detailed comments that delineate what each function in the script accomplishes)."
   ]
  },
  {
   "attachments": {},
   "cell_type": "markdown",
   "metadata": {},
   "source": [
    "![azure-score](assets/azure-score.drawio.png)"
   ]
  },
  {
   "attachments": {},
   "cell_type": "markdown",
   "metadata": {},
   "source": [
    "### Infrastructure & Execution"
   ]
  },
  {
   "attachments": {},
   "cell_type": "markdown",
   "metadata": {},
   "source": [
    "The base model that we will deploy is referred to as the \"blue\" model by convention. After creation, this endpoint is intended to serve 100% of the traffic with the variant tagged as the blue version (the gradient boosted model in this case)."
   ]
  },
  {
   "attachments": {},
   "cell_type": "markdown",
   "metadata": {},
   "source": [
    "Once the server logic is implemented in the scoring script, we define the infrastructure we need to host and serve the model. Azure ML handles the resources needed to create the model server and attaches it to the endpoint with the name specified (note that the managed endpoint was created in the first step)."
   ]
  },
  {
   "cell_type": "code",
   "execution_count": 64,
   "metadata": {},
   "outputs": [],
   "source": [
    "blue_deployment = ManagedOnlineDeployment(\n",
    "    name=\"blue\",\n",
    "    endpoint_name=online_endpoint_name,\n",
    "    model=registered_model_gb,\n",
    "    environment=\"AzureML-sklearn-1.0-ubuntu20.04-py38-cpu@latest\",\n",
    "    code_configuration=CodeConfiguration(\n",
    "        code='./azure/infer',\n",
    "        scoring_script='score.py'\n",
    "    ),\n",
    "    instance_type=\"Standard_DS1_v2\",\n",
    "    instance_count=1\n",
    ")"
   ]
  },
  {
   "cell_type": "code",
   "execution_count": 65,
   "metadata": {},
   "outputs": [
    {
     "name": "stderr",
     "output_type": "stream",
     "text": [
      "Instance type Standard_DS1_v2 may be too small for compute resources. Minimum recommended compute SKU is Standard_DS3_v2 for general purpose endpoints. Learn more about SKUs here: https://learn.microsoft.com/en-us/azure/machine-learning/referencemanaged-online-endpoints-vm-sku-list\n",
      "Check: endpoint diamond-price-predictor-001 exists\n",
      "\u001b[32mUploading infer (0.0 MBs): 100%|██████████| 3159/3159 [00:00<00:00, 23238.26it/s]\n",
      "\u001b[39m\n",
      "\n",
      "INFO:azure.identity._internal.interactive:InteractiveBrowserCredential.get_token succeeded\n",
      "INFO:azure.identity._credentials.default:DefaultAzureCredential acquired a token from InteractiveBrowserCredential\n"
     ]
    },
    {
     "name": "stdout",
     "output_type": "stream",
     "text": [
      "..........................................................................."
     ]
    },
    {
     "data": {
      "text/plain": [
       "ManagedOnlineDeployment({'private_network_connection': None, 'provisioning_state': 'Succeeded', 'endpoint_name': 'diamond-price-predictor-001', 'type': 'Managed', 'name': 'blue', 'description': None, 'tags': {}, 'properties': {'AzureAsyncOperationUri': 'https://management.azure.com/subscriptions/5bcad9c4-40fb-4136-b614-cc90116dd8b3/providers/Microsoft.MachineLearningServices/locations/centralindia/mfeOperationsStatus/od:3150d3d4-458f-4007-bee4-187ff3e17685:3581e241-04f8-41dc-a63c-553b4c834be8?api-version=2023-04-01-preview'}, 'print_as_yaml': True, 'id': '/subscriptions/5bcad9c4-40fb-4136-b614-cc90116dd8b3/resourceGroups/tf/providers/Microsoft.MachineLearningServices/workspaces/cloud-teach/onlineEndpoints/diamond-price-predictor-001/deployments/blue', 'Resource__source_path': None, 'base_path': '/home/pavankumargurazada/Desktop/GL/DSC/Week-5_ Model Serving/v2', 'creation_context': None, 'serialize': <msrest.serialization.Serializer object at 0x7ff293735d30>, 'model': '/subscriptions/5bcad9c4-40fb-4136-b614-cc90116dd8b3/resourceGroups/tf/providers/Microsoft.MachineLearningServices/workspaces/cloud-teach/models/gbr-diamond-price-predictor-june/versions/1', 'code_configuration': {'code': '/subscriptions/5bcad9c4-40fb-4136-b614-cc90116dd8b3/resourceGroups/tf/providers/Microsoft.MachineLearningServices/workspaces/cloud-teach/codes/3b9f39cd-7ea5-4670-96af-aa3d62d6957c/versions/1'}, 'environment': '/subscriptions/5bcad9c4-40fb-4136-b614-cc90116dd8b3/resourceGroups/tf/providers/Microsoft.MachineLearningServices/workspaces/cloud-teach/environments/AzureML-sklearn-1.0-ubuntu20.04-py38-cpu/versions/35', 'environment_variables': {}, 'app_insights_enabled': False, 'scale_settings': <azure.ai.ml.entities._deployment.scale_settings.DefaultScaleSettings object at 0x7ff292db36a0>, 'request_settings': <azure.ai.ml.entities._deployment.deployment_settings.OnlineRequestSettings object at 0x7ff292db34f0>, 'liveness_probe': <azure.ai.ml.entities._deployment.deployment_settings.ProbeSettings object at 0x7ff292db3310>, 'readiness_probe': <azure.ai.ml.entities._deployment.deployment_settings.ProbeSettings object at 0x7ff2937359a0>, 'instance_count': 1, 'arm_type': 'online_deployment', 'model_mount_path': None, 'instance_type': 'Standard_DS1_v2', 'data_collector': None, 'egress_public_network_access': 'Enabled'})"
      ]
     },
     "execution_count": 65,
     "metadata": {},
     "output_type": "execute_result"
    }
   ],
   "source": [
    "ml_client.online_deployments.begin_create_or_update(blue_deployment).result()"
   ]
  },
  {
   "attachments": {},
   "cell_type": "markdown",
   "metadata": {},
   "source": [
    "### Testing"
   ]
  },
  {
   "cell_type": "code",
   "execution_count": 66,
   "metadata": {},
   "outputs": [],
   "source": [
    "(diamonds_df.drop(columns='price')\n",
    "            .sample(100)\n",
    "            .to_json('sample-data.json', orient='split', lines=False))"
   ]
  },
  {
   "cell_type": "code",
   "execution_count": 67,
   "metadata": {},
   "outputs": [
    {
     "name": "stdout",
     "output_type": "stream",
     "text": [
      "[152.9277669073601, 798.6152914735893, 4022.365207032341, 1439.691008250427, 1197.4015941284324, 1108.3858642166927, 1577.7379552616715, 3171.3579188826207, 4999.8662936063965, 2307.5045354318954, 2948.9061456475197, 2333.2150066103704, 4096.100902295317, 1889.494974623238, 1500.2930144413015, 1102.7523382470047, 1088.932965459935, 742.7988689915061, 2096.129780038896, 1019.0269711759134, 796.54852758088, 1054.7336263488771, 1038.3866050911945, 1223.8797379320433, 2780.2852277075385, 2999.0049581332178, 1199.2215664314206, 5194.840443474771, -61.119358780374895, 2493.298258199252, 1862.231771198827, 2346.728378275172, 1387.892208169646, 2402.153791313322, 4349.2777062581845, 1185.6498914772485, -132.04901106903355, 2282.9415083406657, 2918.3942297423755, 6629.414736625384, 3116.1294663900035, 1351.401920308371, 2531.62638093825, 5895.899333682611, 1193.1810363865072, 187.52219709164356, 561.986474339491, 1955.6022694136961, 775.9229815184757, 6974.977163181508, 5173.376336537412, 1152.0406661192408, 2746.8563821185403, 2404.2006891574456, 4064.223709183829, 5576.412850063581, 1786.5705310782882, 4726.780522178734, 1112.6064219586178, 2449.2941117830874, 14682.618875866387, 2445.2445215293587, 1439.691008250427, 1561.6844713511396, 2902.956103135743, 5343.82646277407, 2017.3562700721964, 3510.093540472076, 131.89248379044935, 5623.294325331814, 152.16182176583257, 1033.9161490617062, 800.8728860921743, 2367.920406669657, 2785.7059423978694, 1838.127463614969, 1768.6523204161224, 3189.015469052997, 1520.8404638352529, 1480.9830458538902, 135.1387685346692, 1223.8797379320433, 3010.601368210736, 2621.576357323312, 992.3859558661233, 8981.41171811871, 1444.5878764089896, 1554.735979765825, 2604.055767315802, 1025.0486333790277, 6489.642963747357, 2780.7481384601256, 3486.0314502537517, 2323.1262258920024, 2863.045465399923, 1643.746500251029, 2087.228631645169, 1355.586660981343, 1700.4876363851065, 6179.582667932466]\n"
     ]
    }
   ],
   "source": [
    "print(\n",
    "    ml_client.online_endpoints.invoke(\n",
    "        endpoint_name=online_endpoint_name,\n",
    "        deployment_name=\"blue\",\n",
    "        request_file=\"sample-data.json\"\n",
    "    )\n",
    ")"
   ]
  },
  {
   "attachments": {},
   "cell_type": "markdown",
   "metadata": {},
   "source": [
    "# Canary Deployment"
   ]
  },
  {
   "attachments": {},
   "cell_type": "markdown",
   "metadata": {},
   "source": [
    "An important scenario in model deployment is the need to upgrade an existing baseline model to a newer version. To ensure a careful transition from the existing model to the new version, a recommended approach is through a canary deployment. This method involves directing a controlled portion of the live traffic to the upgraded endpoint, followed by A/B testing to determine if the upgraded version performs better than the baseline on live data.\n",
    "\n",
    "The canary deployment process starts by diverting a small percentage of live traffic, typically between 1% and 5%, to the upgraded version. Gradually, the traffic is increased if there are no errors. This approach allows for incremental testing and monitoring of the new model's performance in a real-world environment.\n",
    "\n",
    "Let's take a closer look at how canary deployment works in action. We begin by creating two model variants, each representing one of the two models we estimated on the data."
   ]
  },
  {
   "attachments": {},
   "cell_type": "markdown",
   "metadata": {},
   "source": [
    "## AWS"
   ]
  },
  {
   "attachments": {},
   "cell_type": "markdown",
   "metadata": {},
   "source": [
    "### Create variants"
   ]
  },
  {
   "attachments": {},
   "cell_type": "markdown",
   "metadata": {},
   "source": [
    "To create variants from the model binaries, we reference the container configuration used by the `SKLearnModel` objects. Containerization is a popular method to package the model and server, along with all the runtime requirements, into a standalone resource. This approach ensures that the server can be deployed easily on any virtual machine without the need for manual duplication of the configuration options required to run the server.\n",
    "\n",
    "There are popular containerization tools available that allow us to quickly package all the runtime requirements into a reusable container. Two commonly used tools are [Docker](https://www.docker.com/) and [Podman](https://podman.io/). These tools simplify the process of creating containers, making it easier to manage and deploy the model and server components as a single unit."
   ]
  },
  {
   "cell_type": "code",
   "execution_count": 68,
   "metadata": {},
   "outputs": [
    {
     "name": "stderr",
     "output_type": "stream",
     "text": [
      "INFO:sagemaker.image_uris:Defaulting to only supported image scope: cpu.\n"
     ]
    },
    {
     "data": {
      "text/plain": [
       "{'Image': '720646828776.dkr.ecr.ap-south-1.amazonaws.com/sagemaker-scikit-learn:1.2-1-cpu-py3',\n",
       " 'Environment': {'SAGEMAKER_PROGRAM': 'inference.py',\n",
       "  'SAGEMAKER_SUBMIT_DIRECTORY': 's3://sagemaker-deployment-examples/sagemaker-scikit-learn-2023-06-12-08-26-20-294/sourcedir.tar.gz',\n",
       "  'SAGEMAKER_CONTAINER_LOG_LEVEL': '20',\n",
       "  'SAGEMAKER_REGION': 'ap-south-1'},\n",
       " 'ModelDataUrl': 's3://sagemaker-deployment-examples/2023-06-12-estimate-dt-003/output/model.tar.gz'}"
      ]
     },
     "execution_count": 68,
     "metadata": {},
     "output_type": "execute_result"
    }
   ],
   "source": [
    "model_dt.prepare_container_def()"
   ]
  },
  {
   "cell_type": "code",
   "execution_count": 69,
   "metadata": {},
   "outputs": [
    {
     "name": "stderr",
     "output_type": "stream",
     "text": [
      "INFO:sagemaker.image_uris:Defaulting to only supported image scope: cpu.\n"
     ]
    },
    {
     "data": {
      "text/plain": [
       "{'Image': '720646828776.dkr.ecr.ap-south-1.amazonaws.com/sagemaker-scikit-learn:1.2-1-cpu-py3',\n",
       " 'Environment': {'SAGEMAKER_PROGRAM': 'inference.py',\n",
       "  'SAGEMAKER_SUBMIT_DIRECTORY': 's3://sagemaker-deployment-examples/sagemaker-scikit-learn-2023-06-12-08-08-48-902/sourcedir.tar.gz',\n",
       "  'SAGEMAKER_CONTAINER_LOG_LEVEL': '20',\n",
       "  'SAGEMAKER_REGION': 'ap-south-1'},\n",
       " 'ModelDataUrl': 's3://sagemaker-deployment-examples/2023-06-12-estimate-gb-003/output/model.tar.gz'}"
      ]
     },
     "execution_count": 69,
     "metadata": {},
     "output_type": "execute_result"
    }
   ],
   "source": [
    "model_gb.prepare_container_def()"
   ]
  },
  {
   "attachments": {},
   "cell_type": "markdown",
   "metadata": {},
   "source": [
    "As the above output indicates, both model objects reference an image `720646828776.dkr.ecr.ap-south-1.amazonaws.com/sagemaker-scikit-learn:1.2-1-cpu-py3` that is managed by AWS. By building this image into a container we get an environment where Python 3, scikit-learn 1.2.1 and its dependencies (e.g., numpy and scipy) are preinstalled. When this container is run, we get a python runtime that executes the script `inference.py` with all its requirements (i.e., packages and model data) copied over to this runtime."
   ]
  },
  {
   "attachments": {},
   "cell_type": "markdown",
   "metadata": {},
   "source": [
    "Now that we have all the information on the infrastructure the model needs to fire predictions, we can register the two model binaries against a common endpoint as variants using the corresponding container configurations. "
   ]
  },
  {
   "attachments": {},
   "cell_type": "markdown",
   "metadata": {},
   "source": [
    "We begin by registering the models and their container environments."
   ]
  },
  {
   "cell_type": "code",
   "execution_count": 70,
   "metadata": {},
   "outputs": [
    {
     "name": "stderr",
     "output_type": "stream",
     "text": [
      "INFO:sagemaker.image_uris:Defaulting to only supported image scope: cpu.\n",
      "INFO:sagemaker:Creating model with name: decision-tree-regressor\n"
     ]
    },
    {
     "data": {
      "text/plain": [
       "'decision-tree-regressor'"
      ]
     },
     "execution_count": 70,
     "metadata": {},
     "output_type": "execute_result"
    }
   ],
   "source": [
    "deployment_session.create_model(\n",
    "    name='decision-tree-regressor',\n",
    "    role=aws_role,\n",
    "    container_defs=model_dt.prepare_container_def()\n",
    ")"
   ]
  },
  {
   "cell_type": "code",
   "execution_count": 71,
   "metadata": {},
   "outputs": [
    {
     "name": "stderr",
     "output_type": "stream",
     "text": [
      "INFO:sagemaker.image_uris:Defaulting to only supported image scope: cpu.\n",
      "INFO:sagemaker:Creating model with name: gradient-boosted-regressor\n"
     ]
    },
    {
     "data": {
      "text/plain": [
       "'gradient-boosted-regressor'"
      ]
     },
     "execution_count": 71,
     "metadata": {},
     "output_type": "execute_result"
    }
   ],
   "source": [
    "deployment_session.create_model(\n",
    "    name='gradient-boosted-regressor',\n",
    "    role=aws_role,\n",
    "    container_defs=model_gb.prepare_container_def()\n",
    ")"
   ]
  },
  {
   "attachments": {},
   "cell_type": "markdown",
   "metadata": {},
   "source": [
    "Now, we create two variants by referencing these two registered models."
   ]
  },
  {
   "cell_type": "code",
   "execution_count": 72,
   "metadata": {},
   "outputs": [],
   "source": [
    "variant1 = production_variant(\n",
    "    model_name='decision-tree-regressor',\n",
    "    instance_type=\"ml.m5.xlarge\",\n",
    "    initial_instance_count=1,\n",
    "    variant_name=\"Variant1\",\n",
    "    initial_weight=0.95,\n",
    "    volume_size=1\n",
    ")"
   ]
  },
  {
   "cell_type": "code",
   "execution_count": 73,
   "metadata": {},
   "outputs": [],
   "source": [
    "variant2 = production_variant(\n",
    "    model_name='gradient-boosted-regressor',\n",
    "    instance_type=\"ml.m5.xlarge\",\n",
    "    initial_instance_count=1,\n",
    "    variant_name=\"Variant2\",\n",
    "    initial_weight=0.05,\n",
    "    volume_size=1\n",
    ")"
   ]
  },
  {
   "cell_type": "code",
   "execution_count": 74,
   "metadata": {},
   "outputs": [
    {
     "data": {
      "text/plain": [
       "({'ModelName': 'decision-tree-regressor',\n",
       "  'VariantName': 'Variant1',\n",
       "  'InitialVariantWeight': 0.99,\n",
       "  'InitialInstanceCount': 1,\n",
       "  'InstanceType': 'ml.m5.xlarge',\n",
       "  'VolumeSizeInGB': 1},\n",
       " {'ModelName': 'gradient-boosted-regressor',\n",
       "  'VariantName': 'Variant2',\n",
       "  'InitialVariantWeight': 0.01,\n",
       "  'InitialInstanceCount': 1,\n",
       "  'InstanceType': 'ml.m5.xlarge',\n",
       "  'VolumeSizeInGB': 1})"
      ]
     },
     "execution_count": 74,
     "metadata": {},
     "output_type": "execute_result"
    }
   ],
   "source": [
    "(variant1, variant2)"
   ]
  },
  {
   "attachments": {},
   "cell_type": "markdown",
   "metadata": {},
   "source": [
    "As we note above, initially the two variants are configured to receive 99% (decision tree regressor) and 1% (gradient boosted regressor) respectively."
   ]
  },
  {
   "attachments": {},
   "cell_type": "markdown",
   "metadata": {},
   "source": [
    "### Deploy variants"
   ]
  },
  {
   "attachments": {},
   "cell_type": "markdown",
   "metadata": {},
   "source": [
    "Now we can deploy the variants against the same endpoint allowing `sagemaker` to route incoming traffic in the ratio 99% and 1% to the two variants."
   ]
  },
  {
   "cell_type": "code",
   "execution_count": 75,
   "metadata": {},
   "outputs": [
    {
     "name": "stdout",
     "output_type": "stream",
     "text": [
      "EndpointName = diamond-price-pred-2023-06-12\n"
     ]
    }
   ],
   "source": [
    "canary_endpoint_name = \"diamond-price-pred-2023-06-12\"\n",
    "print(f\"EndpointName = {canary_endpoint_name}\")"
   ]
  },
  {
   "cell_type": "code",
   "execution_count": 76,
   "metadata": {},
   "outputs": [
    {
     "name": "stderr",
     "output_type": "stream",
     "text": [
      "INFO:sagemaker:Creating endpoint-config with name diamond-price-pred-2023-06-12\n",
      "INFO:sagemaker:Creating endpoint with name diamond-price-pred-2023-06-12\n"
     ]
    },
    {
     "name": "stdout",
     "output_type": "stream",
     "text": [
      "----!"
     ]
    },
    {
     "data": {
      "text/plain": [
       "'diamond-price-pred-2023-06-12'"
      ]
     },
     "execution_count": 76,
     "metadata": {},
     "output_type": "execute_result"
    }
   ],
   "source": [
    "deployment_session.endpoint_from_production_variants(\n",
    "    name=canary_endpoint_name, \n",
    "    production_variants=[variant1, variant2]\n",
    ")"
   ]
  },
  {
   "attachments": {},
   "cell_type": "markdown",
   "metadata": {},
   "source": [
    "We can verify the specification of the canary endpoint from the UI to ensure that the traffic flow is correctly configured."
   ]
  },
  {
   "attachments": {},
   "cell_type": "markdown",
   "metadata": {},
   "source": [
    "### Test deployment"
   ]
  },
  {
   "cell_type": "code",
   "execution_count": 78,
   "metadata": {},
   "outputs": [],
   "source": [
    "for invocation_num in range(100):\n",
    "    \n",
    "    sample_df = diamonds_df.sample(1)\n",
    "    sample_Xtest = sample_df[features]\n",
    "    \n",
    "    response = runtime.invoke_endpoint(\n",
    "        EndpointName=canary_endpoint_name,\n",
    "        Body=sample_Xtest.to_csv(header=True, index=False).encode(\"utf-8\"),\n",
    "        ContentType=\"text/csv\"\n",
    "    )"
   ]
  },
  {
   "attachments": {},
   "cell_type": "markdown",
   "metadata": {},
   "source": [
    "We can check the traffic allocation patterns by looking at the invocation traffic to the endpoint on CloudWatch (expect a slight lag for data to land)."
   ]
  },
  {
   "attachments": {},
   "cell_type": "markdown",
   "metadata": {},
   "source": [
    "### Safe rollout"
   ]
  },
  {
   "attachments": {},
   "cell_type": "markdown",
   "metadata": {},
   "source": [
    "Once the updated variant is tested, we can slowly increase the weights assigned to the upgrade gradually pushing all the traffic over to the new variant."
   ]
  },
  {
   "cell_type": "code",
   "execution_count": 84,
   "metadata": {},
   "outputs": [
    {
     "name": "stderr",
     "output_type": "stream",
     "text": [
      "INFO:botocore.credentials:Found credentials in shared credentials file: ~/.aws/credentials\n"
     ]
    }
   ],
   "source": [
    "sagemaker_client = boto3.Session().client('sagemaker')"
   ]
  },
  {
   "cell_type": "code",
   "execution_count": 92,
   "metadata": {},
   "outputs": [
    {
     "data": {
      "text/plain": [
       "{'EndpointArn': 'arn:aws:sagemaker:ap-south-1:321112151583:endpoint/diamond-price-pred-2023-06-12',\n",
       " 'ResponseMetadata': {'RequestId': '370aae92-806a-4d61-9851-2d887ebad59b',\n",
       "  'HTTPStatusCode': 200,\n",
       "  'HTTPHeaders': {'x-amzn-requestid': '370aae92-806a-4d61-9851-2d887ebad59b',\n",
       "   'content-type': 'application/x-amz-json-1.1',\n",
       "   'content-length': '98',\n",
       "   'date': 'Mon, 12 Jun 2023 08:55:44 GMT'},\n",
       "  'RetryAttempts': 0}}"
      ]
     },
     "execution_count": 92,
     "metadata": {},
     "output_type": "execute_result"
    }
   ],
   "source": [
    "sagemaker_client.update_endpoint_weights_and_capacities(\n",
    "    EndpointName=canary_endpoint_name,\n",
    "    DesiredWeightsAndCapacities=[\n",
    "        {'VariantName': 'Variant1', 'DesiredWeight': 0.8},\n",
    "        {'VariantName': 'Variant2', 'DesiredWeight': 0.2}\n",
    "    ]\n",
    ")"
   ]
  },
  {
   "attachments": {},
   "cell_type": "markdown",
   "metadata": {},
   "source": [
    "## Azure"
   ]
  },
  {
   "attachments": {},
   "cell_type": "markdown",
   "metadata": {},
   "source": [
    "### Create variants"
   ]
  },
  {
   "cell_type": "code",
   "execution_count": 96,
   "metadata": {},
   "outputs": [],
   "source": [
    "registered_model_dt = ml_client.models.get(\n",
    "    name=\"dt-diamond-price-predictor-june\", \n",
    "    version=1\n",
    ")"
   ]
  },
  {
   "cell_type": "code",
   "execution_count": 97,
   "metadata": {},
   "outputs": [
    {
     "data": {
      "text/plain": [
       "'1'"
      ]
     },
     "execution_count": 97,
     "metadata": {},
     "output_type": "execute_result"
    }
   ],
   "source": [
    "registered_model_dt.version"
   ]
  },
  {
   "attachments": {},
   "cell_type": "markdown",
   "metadata": {},
   "source": [
    "### Green deployment"
   ]
  },
  {
   "cell_type": "code",
   "execution_count": 98,
   "metadata": {},
   "outputs": [],
   "source": [
    "green_deployment = ManagedOnlineDeployment(\n",
    "    name=\"green\",\n",
    "    endpoint_name=online_endpoint_name,\n",
    "    model=registered_model_dt,\n",
    "    environment=\"AzureML-sklearn-1.0-ubuntu20.04-py38-cpu@latest\",\n",
    "    code_configuration=CodeConfiguration(\n",
    "        code='./azure/infer',\n",
    "        scoring_script='score.py'\n",
    "    ),\n",
    "    instance_type=\"Standard_DS1_v2\",\n",
    "    instance_count=1\n",
    ")"
   ]
  },
  {
   "cell_type": "code",
   "execution_count": 99,
   "metadata": {},
   "outputs": [
    {
     "name": "stderr",
     "output_type": "stream",
     "text": [
      "Instance type Standard_DS1_v2 may be too small for compute resources. Minimum recommended compute SKU is Standard_DS3_v2 for general purpose endpoints. Learn more about SKUs here: https://learn.microsoft.com/en-us/azure/machine-learning/referencemanaged-online-endpoints-vm-sku-list\n",
      "Check: endpoint diamond-price-predictor-001 exists\n",
      "\u001b[32mUploading infer (0.0 MBs): 100%|██████████| 1578/1578 [00:00<00:00, 47906.80it/s]\n",
      "\u001b[39m\n",
      "\n"
     ]
    },
    {
     "name": "stdout",
     "output_type": "stream",
     "text": [
      "................."
     ]
    },
    {
     "name": "stderr",
     "output_type": "stream",
     "text": [
      "INFO:azure.identity._internal.interactive:InteractiveBrowserCredential.get_token succeeded\n",
      "INFO:azure.identity._credentials.default:DefaultAzureCredential acquired a token from InteractiveBrowserCredential\n"
     ]
    },
    {
     "name": "stdout",
     "output_type": "stream",
     "text": [
      "."
     ]
    },
    {
     "name": "stderr",
     "output_type": "stream",
     "text": [
      "INFO:azure.identity._internal.interactive:InteractiveBrowserCredential.get_token succeeded\n",
      "INFO:azure.identity._credentials.default:DefaultAzureCredential acquired a token from InteractiveBrowserCredential\n"
     ]
    },
    {
     "name": "stdout",
     "output_type": "stream",
     "text": [
      "..........................................................."
     ]
    },
    {
     "data": {
      "text/plain": [
       "ManagedOnlineDeployment({'private_network_connection': None, 'provisioning_state': 'Succeeded', 'endpoint_name': 'diamond-price-predictor-001', 'type': 'Managed', 'name': 'green', 'description': None, 'tags': {}, 'properties': {'AzureAsyncOperationUri': 'https://management.azure.com/subscriptions/5bcad9c4-40fb-4136-b614-cc90116dd8b3/providers/Microsoft.MachineLearningServices/locations/centralindia/mfeOperationsStatus/od:3150d3d4-458f-4007-bee4-187ff3e17685:e55655b8-9aff-44cd-8e6f-99ce180cb55d?api-version=2023-04-01-preview'}, 'print_as_yaml': True, 'id': '/subscriptions/5bcad9c4-40fb-4136-b614-cc90116dd8b3/resourceGroups/tf/providers/Microsoft.MachineLearningServices/workspaces/cloud-teach/onlineEndpoints/diamond-price-predictor-001/deployments/green', 'Resource__source_path': None, 'base_path': '/home/pavankumargurazada/Desktop/GL/DSC/Week-5_ Model Serving/v2', 'creation_context': None, 'serialize': <msrest.serialization.Serializer object at 0x7ff291388ac0>, 'model': '/subscriptions/5bcad9c4-40fb-4136-b614-cc90116dd8b3/resourceGroups/tf/providers/Microsoft.MachineLearningServices/workspaces/cloud-teach/models/dt-diamond-price-predictor-june/versions/1', 'code_configuration': {'code': '/subscriptions/5bcad9c4-40fb-4136-b614-cc90116dd8b3/resourceGroups/tf/providers/Microsoft.MachineLearningServices/workspaces/cloud-teach/codes/48a63048-c869-456b-b7e5-d9b1411a8f2f/versions/1'}, 'environment': '/subscriptions/5bcad9c4-40fb-4136-b614-cc90116dd8b3/resourceGroups/tf/providers/Microsoft.MachineLearningServices/workspaces/cloud-teach/environments/AzureML-sklearn-1.0-ubuntu20.04-py38-cpu/versions/35', 'environment_variables': {}, 'app_insights_enabled': False, 'scale_settings': <azure.ai.ml.entities._deployment.scale_settings.DefaultScaleSettings object at 0x7ff291388700>, 'request_settings': <azure.ai.ml.entities._deployment.deployment_settings.OnlineRequestSettings object at 0x7ff2913882b0>, 'liveness_probe': <azure.ai.ml.entities._deployment.deployment_settings.ProbeSettings object at 0x7ff291388280>, 'readiness_probe': <azure.ai.ml.entities._deployment.deployment_settings.ProbeSettings object at 0x7ff291388dc0>, 'instance_count': 1, 'arm_type': 'online_deployment', 'model_mount_path': None, 'instance_type': 'Standard_DS1_v2', 'data_collector': None, 'egress_public_network_access': 'Enabled'})"
      ]
     },
     "execution_count": 99,
     "metadata": {},
     "output_type": "execute_result"
    }
   ],
   "source": [
    "ml_client.online_deployments.begin_create_or_update(green_deployment).result()"
   ]
  },
  {
   "attachments": {},
   "cell_type": "markdown",
   "metadata": {},
   "source": [
    "### Testing"
   ]
  },
  {
   "attachments": {},
   "cell_type": "markdown",
   "metadata": {},
   "source": [
    "At this stage, even though the endpoint is aware of a \"green\" version and we can invoke it, it is not yet receiving public traffic."
   ]
  },
  {
   "cell_type": "code",
   "execution_count": 101,
   "metadata": {},
   "outputs": [
    {
     "data": {
      "text/plain": [
       "'[370.0, 646.2162162162163, 5003.076923076923, 1347.0588235294117, 991.1538461538462, 889.8809523809524, 1020.0, 3842.9411764705883, 4380.0, 2238.5185185185187, 2780.0, 2203.3333333333335, 3572.5, 1824.0, 1050.0, 843.6036036036036, 913.5416666666666, 923.3333333333334, 2239.6428571428573, 869.3069306930693, 763.3333333333334, 1150.0, 822.8571428571429, 1004.0, 3352.5, 3329.4594594594596, 750.0, 4380.0, 370.0, 2282.5, 1556.6666666666667, 2050.0, 929.0, 3066.6666666666665, 6880.0, 967.5, 488.8888888888889, 2157.5, 2500.0, 5736.666666666667, 2315.0, 1270.1980198019803, 2328.75, 7812.727272727273, 921.9469026548672, 390.0, 580.0, 1932.820512820513, 690.0, 7265.0, 2980.0, 1251.7391304347825, 2420.0, 2482.5, 3942.5, 5273.333333333333, 1776.6666666666667, 4100.0, 899.5652173913044, 2300.0, 16630.0, 2315.0, 1297.361111111111, 1457.142857142857, 1876.6666666666667, 5420.0, 2144.84375, 2967.5, 430.0, 6000.0, 690.0, 828.5227272727273, 660.0, 2191.3333333333335, 2260.0, 1795.7142857142858, 1570.0, 2650.0, 1120.0, 1423.4782608695652, 520.0, 1004.0, 3254.6666666666665, 2260.0, 695.0, 8985.0, 1194.2857142857142, 1507.0588235294117, 2730.0, 815.4545454545455, 9806.666666666666, 2600.0, 3120.0, 2512.5, 2833.076923076923, 1285.0, 1780.0, 1069.3333333333333, 1602.857142857143, 6847.5]'"
      ]
     },
     "execution_count": 101,
     "metadata": {},
     "output_type": "execute_result"
    }
   ],
   "source": [
    "ml_client.online_endpoints.invoke(\n",
    "    endpoint_name=online_endpoint_name,\n",
    "    deployment_name=\"green\",\n",
    "    request_file=\"sample-data.json\"\n",
    ")"
   ]
  },
  {
   "attachments": {},
   "cell_type": "markdown",
   "metadata": {},
   "source": [
    "### Safe rollout"
   ]
  },
  {
   "attachments": {},
   "cell_type": "markdown",
   "metadata": {},
   "source": [
    "Once the green variant is tested, we can define the traffic proportions to be allocated dynamically, gradually increasing the traffic seen by the green endpoint, eventually rolling over completely."
   ]
  },
  {
   "cell_type": "code",
   "execution_count": 102,
   "metadata": {},
   "outputs": [],
   "source": [
    "endpoint.traffic = {\"blue\": 99, \"green\": 1}"
   ]
  },
  {
   "cell_type": "code",
   "execution_count": 103,
   "metadata": {},
   "outputs": [
    {
     "data": {
      "text/plain": [
       "ManagedOnlineEndpoint({'public_network_access': 'Enabled', 'provisioning_state': 'Succeeded', 'scoring_uri': 'https://diamond-price-predictor-001.centralindia.inference.ml.azure.com/score', 'openapi_uri': 'https://diamond-price-predictor-001.centralindia.inference.ml.azure.com/swagger.json', 'name': 'diamond-price-predictor-001', 'description': 'Model to predict diamond prices', 'tags': {}, 'properties': {'azureml.onlineendpointid': '/subscriptions/5bcad9c4-40fb-4136-b614-cc90116dd8b3/resourcegroups/tf/providers/microsoft.machinelearningservices/workspaces/cloud-teach/onlineendpoints/diamond-price-predictor-001', 'AzureAsyncOperationUri': 'https://management.azure.com/subscriptions/5bcad9c4-40fb-4136-b614-cc90116dd8b3/providers/Microsoft.MachineLearningServices/locations/centralindia/mfeOperationsStatus/oe:3150d3d4-458f-4007-bee4-187ff3e17685:cf18496f-4d33-406d-a0a8-d998a7fe8a45?api-version=2022-02-01-preview'}, 'print_as_yaml': True, 'id': '/subscriptions/5bcad9c4-40fb-4136-b614-cc90116dd8b3/resourceGroups/tf/providers/Microsoft.MachineLearningServices/workspaces/cloud-teach/onlineEndpoints/diamond-price-predictor-001', 'Resource__source_path': None, 'base_path': '/home/pavankumargurazada/Desktop/GL/DSC/Week-5_ Model Serving/v2', 'creation_context': None, 'serialize': <msrest.serialization.Serializer object at 0x7ff29085e550>, 'auth_mode': 'aml_token', 'location': 'centralindia', 'identity': <azure.ai.ml.entities._credentials.IdentityConfiguration object at 0x7ff290c8fe80>, 'traffic': {'blue': 99, 'green': 1}, 'mirror_traffic': {}, 'kind': 'Managed'})"
      ]
     },
     "execution_count": 103,
     "metadata": {},
     "output_type": "execute_result"
    }
   ],
   "source": [
    "ml_client.begin_create_or_update(endpoint).result()"
   ]
  },
  {
   "cell_type": "code",
   "execution_count": 104,
   "metadata": {},
   "outputs": [],
   "source": [
    "for i in range(20):\n",
    "    ml_client.online_endpoints.invoke(\n",
    "        endpoint_name=online_endpoint_name,\n",
    "        request_file=\"sample-data.json\"\n",
    "    )"
   ]
  },
  {
   "attachments": {},
   "cell_type": "markdown",
   "metadata": {},
   "source": [
    "# Cleanup"
   ]
  },
  {
   "attachments": {},
   "cell_type": "markdown",
   "metadata": {},
   "source": [
    "## AWS"
   ]
  },
  {
   "attachments": {},
   "cell_type": "markdown",
   "metadata": {},
   "source": [
    "To avoid costs incurred on idle endpoints during the testing phase, it is a good practise to delete end points. Production end points should ideally be generated and maintained by a separate team (even if they are using the same code). Data Science teams should not have edit access to production endpoints. "
   ]
  },
  {
   "cell_type": "code",
   "execution_count": 93,
   "metadata": {},
   "outputs": [
    {
     "name": "stderr",
     "output_type": "stream",
     "text": [
      "INFO:sagemaker:Deleting endpoint with name: diamond-price-pred-2023-06-12\n"
     ]
    }
   ],
   "source": [
    "deployment_session.delete_endpoint(canary_endpoint_name)"
   ]
  },
  {
   "cell_type": "code",
   "execution_count": 94,
   "metadata": {},
   "outputs": [
    {
     "name": "stderr",
     "output_type": "stream",
     "text": [
      "INFO:sagemaker:Deleting endpoint configuration with name: diamond-price-pred-2023-06-12\n"
     ]
    }
   ],
   "source": [
    "deployment_session.delete_endpoint_config(canary_endpoint_name)"
   ]
  },
  {
   "cell_type": "code",
   "execution_count": 95,
   "metadata": {},
   "outputs": [
    {
     "name": "stderr",
     "output_type": "stream",
     "text": [
      "INFO:sagemaker:Deleting model with name: decision-tree-regressor\n",
      "INFO:sagemaker:Deleting model with name: gradient-boosted-regressor\n"
     ]
    }
   ],
   "source": [
    "for model_name in ['decision-tree-regressor', 'gradient-boosted-regressor']:\n",
    "    deployment_session.delete_model(model_name)"
   ]
  },
  {
   "attachments": {},
   "cell_type": "markdown",
   "metadata": {},
   "source": [
    "## Azure"
   ]
  },
  {
   "cell_type": "code",
   "execution_count": 105,
   "metadata": {},
   "outputs": [
    {
     "data": {
      "text/plain": [
       "<azure.core.polling._poller.LROPoller at 0x7ff293d910a0>"
      ]
     },
     "execution_count": 105,
     "metadata": {},
     "output_type": "execute_result"
    },
    {
     "name": "stdout",
     "output_type": "stream",
     "text": [
      ".............................................................................."
     ]
    }
   ],
   "source": [
    "ml_client.online_endpoints.begin_delete(name=online_endpoint_name)"
   ]
  }
 ],
 "metadata": {
  "kernelspec": {
   "display_name": "Python 3 (ipykernel)",
   "language": "python",
   "name": "python3"
  },
  "language_info": {
   "codemirror_mode": {
    "name": "ipython",
    "version": 3
   },
   "file_extension": ".py",
   "mimetype": "text/x-python",
   "name": "python",
   "nbconvert_exporter": "python",
   "pygments_lexer": "ipython3",
   "version": "3.9.16"
  }
 },
 "nbformat": 4,
 "nbformat_minor": 4
}
